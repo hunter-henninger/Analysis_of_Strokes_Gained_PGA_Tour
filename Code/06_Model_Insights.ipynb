{
 "cells": [
  {
   "cell_type": "markdown",
   "metadata": {},
   "source": [
    "# <u>Model Insights\n",
    "---"
   ]
  },
  {
   "cell_type": "markdown",
   "metadata": {},
   "source": [
    "## Objective\n",
    "This final notebook extracts meaningful results from the tuned models. Comparing R-squared and coefficients lends to the comparison of players based on their Club Head Speed. The conclusion captures the realities of professional golf and ways to improve upo"
   ]
  },
  {
   "cell_type": "markdown",
   "metadata": {},
   "source": [
    "-----\n",
    "#### External Libraries Import"
   ]
  },
  {
   "cell_type": "code",
   "execution_count": 1,
   "metadata": {},
   "outputs": [],
   "source": [
    "import numpy as np\n",
    "import pandas as pd\n",
    "from sklearn.model_selection import train_test_split\n",
    "from sklearn.preprocessing import StandardScaler\n",
    "import pickle\n",
    "import warnings\n",
    "warnings.filterwarnings('ignore')"
   ]
  },
  {
   "cell_type": "markdown",
   "metadata": {},
   "source": [
    "#### Read Data and Models"
   ]
  },
  {
   "cell_type": "code",
   "execution_count": 2,
   "metadata": {},
   "outputs": [],
   "source": [
    "df_pga = pd.read_csv('../Data/Sets/final_model.csv')\n",
    "slow_model = pickle.load(open('../Best_Models/slow_model.pk', 'rb'))\n",
    "fast_model = pickle.load(open('../Best_Models/fast_model.pk', 'rb'))"
   ]
  },
  {
   "cell_type": "markdown",
   "metadata": {},
   "source": [
    "#### Prepare Data"
   ]
  },
  {
   "cell_type": "code",
   "execution_count": 3,
   "metadata": {},
   "outputs": [],
   "source": [
    "features = [\n",
    "    col for col in df_pga.columns if col not in ['date', 'finish', \n",
    "                                                  'player', 'event', \n",
    "                                                  'sg:_off-the-tee',\n",
    "                                                  'sg:_approach-the-green',\n",
    "                                                  'sg:_around-the-green',\n",
    "                                                  'sg:_putting',\n",
    "                                                  'sg:_total']]\n",
    "\n",
    "X = df_pga[features]\n",
    "y = df_pga['sg:_total']\n",
    "\n",
    "# train, test split\n",
    "X_train, X_test, y_train, y_test = train_test_split(X, y, \n",
    "                                                        test_size = 0.3, random_state = 77)\n",
    "\n",
    "# standardize the data using StandardScaler\n",
    "ss = StandardScaler()\n",
    "X_train_sc = ss.fit_transform(X_train)\n",
    "X_test_sc = ss.transform(X_test)"
   ]
  },
  {
   "cell_type": "markdown",
   "metadata": {},
   "source": [
    "## <u>Compare Models<u/>"
   ]
  },
  {
   "cell_type": "markdown",
   "metadata": {},
   "source": [
    "### R-squared\n",
    "- The slow model was trained on only golf tournaments where the player averaged a club speed below 115.51mph.\n",
    "- The fast model was trained on only golf tournaments where the player averaged a club speed above 115.51mph."
   ]
  },
  {
   "cell_type": "code",
   "execution_count": 4,
   "metadata": {},
   "outputs": [
    {
     "name": "stdout",
     "output_type": "stream",
     "text": [
      "The slow model explains 58.41% of variation in total strokes gained.\n",
      "The fast model explains 61.32% of variation in total strokes gained.\n"
     ]
    }
   ],
   "source": [
    "print(f'The slow model explains {round((slow_model.score(X_test_sc, y_test)*100), 2)}%\\\n",
    " of variation in total strokes gained.')\n",
    "print(f'The fast model explains {round((fast_model.score(X_test_sc, y_test)*100), 2)}%\\\n",
    " of variation in total strokes gained.')"
   ]
  },
  {
   "cell_type": "markdown",
   "metadata": {},
   "source": [
    "- Remember that a LASSO regression trained on the entire dataset explained 60.32% of variation in Total Strokes Gained compared to the mean.\n",
    "- The slow model loses explanatory power by nearly 2% compared to the original model.\n",
    "- The fast model gains explanatory power by about 1% compared to the original model."
   ]
  },
  {
   "cell_type": "markdown",
   "metadata": {},
   "source": [
    "#### Insight\n",
    "By training a model on golf tournaments where the player averaged below the mean Club Head Speed, the model loses predictive power. That is, there is something about the performance of a golfer with a slower swing speed that is less explainable by these metrics than the performance of a golfer with a faster swing speed."
   ]
  },
  {
   "cell_type": "markdown",
   "metadata": {},
   "source": [
    "### Interpret Coefficients"
   ]
  },
  {
   "cell_type": "markdown",
   "metadata": {},
   "source": [
    "#### Below Average Club Head Speed Players"
   ]
  },
  {
   "cell_type": "code",
   "execution_count": 5,
   "metadata": {},
   "outputs": [
    {
     "data": {
      "text/html": [
       "<div>\n",
       "<style scoped>\n",
       "    .dataframe tbody tr th:only-of-type {\n",
       "        vertical-align: middle;\n",
       "    }\n",
       "\n",
       "    .dataframe tbody tr th {\n",
       "        vertical-align: top;\n",
       "    }\n",
       "\n",
       "    .dataframe thead th {\n",
       "        text-align: right;\n",
       "    }\n",
       "</style>\n",
       "<table border=\"1\" class=\"dataframe\">\n",
       "  <thead>\n",
       "    <tr style=\"text-align: right;\">\n",
       "      <th></th>\n",
       "      <th>slow_coefs</th>\n",
       "      <th>slow_abs_coefs</th>\n",
       "      <th>std._dev</th>\n",
       "    </tr>\n",
       "  </thead>\n",
       "  <tbody>\n",
       "    <tr>\n",
       "      <th>greens_in_regulation_percentage</th>\n",
       "      <td>0.547266</td>\n",
       "      <td>0.547266</td>\n",
       "      <td>7.533094</td>\n",
       "    </tr>\n",
       "    <tr>\n",
       "      <th>scrambling</th>\n",
       "      <td>0.401197</td>\n",
       "      <td>0.401197</td>\n",
       "      <td>10.716159</td>\n",
       "    </tr>\n",
       "    <tr>\n",
       "      <th>putting_average</th>\n",
       "      <td>-0.353627</td>\n",
       "      <td>0.353627</td>\n",
       "      <td>0.078363</td>\n",
       "    </tr>\n",
       "    <tr>\n",
       "      <th>overall_putting_average</th>\n",
       "      <td>-0.175324</td>\n",
       "      <td>0.175324</td>\n",
       "      <td>0.074604</td>\n",
       "    </tr>\n",
       "    <tr>\n",
       "      <th>going_for_the_green_-_hit_green_pct.</th>\n",
       "      <td>0.100728</td>\n",
       "      <td>0.100728</td>\n",
       "      <td>18.173266</td>\n",
       "    </tr>\n",
       "    <tr>\n",
       "      <th>going_for_the_green_-_birdie_or_better</th>\n",
       "      <td>0.072928</td>\n",
       "      <td>0.072928</td>\n",
       "      <td>20.238183</td>\n",
       "    </tr>\n",
       "    <tr>\n",
       "      <th>putting_from_-_10-25'</th>\n",
       "      <td>0.070319</td>\n",
       "      <td>0.070319</td>\n",
       "      <td>27.231458</td>\n",
       "    </tr>\n",
       "    <tr>\n",
       "      <th>club_head_speed</th>\n",
       "      <td>0.060038</td>\n",
       "      <td>0.060038</td>\n",
       "      <td>4.235433</td>\n",
       "    </tr>\n",
       "    <tr>\n",
       "      <th>3-putt_avoidance</th>\n",
       "      <td>-0.048774</td>\n",
       "      <td>0.048774</td>\n",
       "      <td>2.034111</td>\n",
       "    </tr>\n",
       "    <tr>\n",
       "      <th>sand_save_percentage</th>\n",
       "      <td>0.043033</td>\n",
       "      <td>0.043033</td>\n",
       "      <td>22.914026</td>\n",
       "    </tr>\n",
       "    <tr>\n",
       "      <th>putting_-_inside_10'</th>\n",
       "      <td>0.041724</td>\n",
       "      <td>0.041724</td>\n",
       "      <td>3.627358</td>\n",
       "    </tr>\n",
       "    <tr>\n",
       "      <th>putting_from_6'</th>\n",
       "      <td>0.032051</td>\n",
       "      <td>0.032051</td>\n",
       "      <td>25.383788</td>\n",
       "    </tr>\n",
       "  </tbody>\n",
       "</table>\n",
       "</div>"
      ],
      "text/plain": [
       "                                        slow_coefs  slow_abs_coefs   std._dev\n",
       "greens_in_regulation_percentage           0.547266        0.547266   7.533094\n",
       "scrambling                                0.401197        0.401197  10.716159\n",
       "putting_average                          -0.353627        0.353627   0.078363\n",
       "overall_putting_average                  -0.175324        0.175324   0.074604\n",
       "going_for_the_green_-_hit_green_pct.      0.100728        0.100728  18.173266\n",
       "going_for_the_green_-_birdie_or_better    0.072928        0.072928  20.238183\n",
       "putting_from_-_10-25'                     0.070319        0.070319  27.231458\n",
       "club_head_speed                           0.060038        0.060038   4.235433\n",
       "3-putt_avoidance                         -0.048774        0.048774   2.034111\n",
       "sand_save_percentage                      0.043033        0.043033  22.914026\n",
       "putting_-_inside_10'                      0.041724        0.041724   3.627358\n",
       "putting_from_6'                           0.032051        0.032051  25.383788"
      ]
     },
     "execution_count": 5,
     "metadata": {},
     "output_type": "execute_result"
    }
   ],
   "source": [
    "slow = pd.DataFrame(slow_model.coef_, columns=['slow_coefs'])\n",
    "slow['slow_abs_coefs'] = abs(slow_model.coef_)\n",
    "slow.index = X_train.columns\n",
    "slow = slow.sort_values('slow_abs_coefs', ascending=False).head(12)\n",
    "\n",
    "# create standard deviation column\n",
    "slow_std = []\n",
    "for col in slow.index:\n",
    "    slow_std.append(df_pga[col].std())\n",
    "slow['std._dev'] = slow_std\n",
    "slow"
   ]
  },
  {
   "cell_type": "markdown",
   "metadata": {},
   "source": [
    "#### Above Average Club Head Speed Players"
   ]
  },
  {
   "cell_type": "code",
   "execution_count": 6,
   "metadata": {},
   "outputs": [
    {
     "data": {
      "text/html": [
       "<div>\n",
       "<style scoped>\n",
       "    .dataframe tbody tr th:only-of-type {\n",
       "        vertical-align: middle;\n",
       "    }\n",
       "\n",
       "    .dataframe tbody tr th {\n",
       "        vertical-align: top;\n",
       "    }\n",
       "\n",
       "    .dataframe thead th {\n",
       "        text-align: right;\n",
       "    }\n",
       "</style>\n",
       "<table border=\"1\" class=\"dataframe\">\n",
       "  <thead>\n",
       "    <tr style=\"text-align: right;\">\n",
       "      <th></th>\n",
       "      <th>fast_coefs</th>\n",
       "      <th>fast_abs_coefs</th>\n",
       "      <th>std._dev</th>\n",
       "    </tr>\n",
       "  </thead>\n",
       "  <tbody>\n",
       "    <tr>\n",
       "      <th>greens_in_regulation_percentage</th>\n",
       "      <td>0.785991</td>\n",
       "      <td>0.785991</td>\n",
       "      <td>7.533094</td>\n",
       "    </tr>\n",
       "    <tr>\n",
       "      <th>overall_putting_average</th>\n",
       "      <td>-0.497467</td>\n",
       "      <td>0.497467</td>\n",
       "      <td>0.074604</td>\n",
       "    </tr>\n",
       "    <tr>\n",
       "      <th>scrambling</th>\n",
       "      <td>0.471522</td>\n",
       "      <td>0.471522</td>\n",
       "      <td>10.716159</td>\n",
       "    </tr>\n",
       "    <tr>\n",
       "      <th>putting_average</th>\n",
       "      <td>-0.339779</td>\n",
       "      <td>0.339779</td>\n",
       "      <td>0.078363</td>\n",
       "    </tr>\n",
       "    <tr>\n",
       "      <th>going_for_the_green_-_hit_green_pct.</th>\n",
       "      <td>0.185050</td>\n",
       "      <td>0.185050</td>\n",
       "      <td>18.173266</td>\n",
       "    </tr>\n",
       "    <tr>\n",
       "      <th>one-putt_percentage</th>\n",
       "      <td>-0.108674</td>\n",
       "      <td>0.108674</td>\n",
       "      <td>6.335913</td>\n",
       "    </tr>\n",
       "    <tr>\n",
       "      <th>fairway_proximity</th>\n",
       "      <td>0.107791</td>\n",
       "      <td>0.107791</td>\n",
       "      <td>52.124938</td>\n",
       "    </tr>\n",
       "    <tr>\n",
       "      <th>putts_per_round</th>\n",
       "      <td>-0.098940</td>\n",
       "      <td>0.098940</td>\n",
       "      <td>1.342851</td>\n",
       "    </tr>\n",
       "    <tr>\n",
       "      <th>going_for_the_green</th>\n",
       "      <td>-0.094355</td>\n",
       "      <td>0.094355</td>\n",
       "      <td>19.284530</td>\n",
       "    </tr>\n",
       "    <tr>\n",
       "      <th>scrambling_from_10-30_yards</th>\n",
       "      <td>-0.082979</td>\n",
       "      <td>0.082979</td>\n",
       "      <td>33.867141</td>\n",
       "    </tr>\n",
       "    <tr>\n",
       "      <th>driving_distance</th>\n",
       "      <td>0.080954</td>\n",
       "      <td>0.080954</td>\n",
       "      <td>14.156061</td>\n",
       "    </tr>\n",
       "    <tr>\n",
       "      <th>club_head_speed</th>\n",
       "      <td>0.070501</td>\n",
       "      <td>0.070501</td>\n",
       "      <td>4.235433</td>\n",
       "    </tr>\n",
       "  </tbody>\n",
       "</table>\n",
       "</div>"
      ],
      "text/plain": [
       "                                      fast_coefs  fast_abs_coefs   std._dev\n",
       "greens_in_regulation_percentage         0.785991        0.785991   7.533094\n",
       "overall_putting_average                -0.497467        0.497467   0.074604\n",
       "scrambling                              0.471522        0.471522  10.716159\n",
       "putting_average                        -0.339779        0.339779   0.078363\n",
       "going_for_the_green_-_hit_green_pct.    0.185050        0.185050  18.173266\n",
       "one-putt_percentage                    -0.108674        0.108674   6.335913\n",
       "fairway_proximity                       0.107791        0.107791  52.124938\n",
       "putts_per_round                        -0.098940        0.098940   1.342851\n",
       "going_for_the_green                    -0.094355        0.094355  19.284530\n",
       "scrambling_from_10-30_yards            -0.082979        0.082979  33.867141\n",
       "driving_distance                        0.080954        0.080954  14.156061\n",
       "club_head_speed                         0.070501        0.070501   4.235433"
      ]
     },
     "execution_count": 6,
     "metadata": {},
     "output_type": "execute_result"
    }
   ],
   "source": [
    "fast = pd.DataFrame(fast_model.coef_, columns=['fast_coefs'])\n",
    "fast['fast_abs_coefs'] = abs(fast_model.coef_)\n",
    "fast.index = X_train.columns\n",
    "fast = fast.sort_values('fast_abs_coefs', ascending=False).head(12)\n",
    "\n",
    "# create standard deviation column\n",
    "fast_std = []\n",
    "for col in fast.index:\n",
    "    fast_std.append(df_pga[col].std())\n",
    "fast['std._dev'] = fast_std\n",
    "fast"
   ]
  },
  {
   "cell_type": "markdown",
   "metadata": {},
   "source": [
    "## Comparison of Slow Swing Golfers to Fast Swing Golfers"
   ]
  },
  {
   "cell_type": "markdown",
   "metadata": {},
   "source": [
    "- **Size of coefficients:**\n",
    "    - The first thing to notice in this comparison is the magnitude of the coefficients. The fast model produced much larger coefficients than the slow model. \n",
    "    - For example: a single standard deviation increase (0.0746 putts) in a players overall putting average decreases a fast swing speed players' strokes gained by 0.497 while it only decreases a slow swing speed players' strokes gained by only 0.175.\n",
    "    - The coefficients of the slow model prove that Strokes Gained for a player with a slower swing speed is affected by more aspects of the game than a player with a faster swing speed. \n",
    "<br><br>\n",
    "- **Club head speed**\n",
    "    - The strength of club head speed as a predictor is similar for both models. It increases a players strokes gained by 0.06 - 0.07 for every increase of 4.23 mph. \n",
    "<br><br>\n",
    "- **Interesting takeaways**\n",
    "    - Going for the Green percentage hurts a golfer with a fast swing speed. For every increase in 19% of Going for the Green, a player can expect to lose 0.094 Strokes. This implies that there is a sweet spot for going for the green percentage which was mentioned in the EDA; there are times when a player should not go for the green.\n",
    "    <br><br>\n",
    "    - Putting features hurt golfers with a fast swing speed much more than golfers with a slow swing speed. Overall putting percentage is a stronger predictor of Strokes Gained than Scrambling for players with a faster swing speed. Keeping their overall putting average low is key to their success.\n",
    "    <br><br>\n",
    "    - Important putts from 6 feet, 10 feet, 10-25 feet are stronger predictors for slower swing players. This is because they have to account for the strokes they lose before getting to the green.\n",
    "    <br><br>\n",
    "    - For players with a slow swing speed, areas that account for total strokes gained are more spread out among all metrics. This reiterates the fact that their Total Strokes Gained is more difficult to explain.\n",
    "    <br><br>\n",
    "    - For players with a fast swing speed, it is clear that their success comes from getting to the green in regulation, getting close to the hole off the fairway, and getting up and down around the green."
   ]
  },
  {
   "cell_type": "markdown",
   "metadata": {},
   "source": [
    "## Conclusion"
   ]
  },
  {
   "cell_type": "markdown",
   "metadata": {},
   "source": [
    "In the impossible game of golf, especially at a competitive level, players are always looking for ways to make improve. According to the models, one thing that makes the sport easier is increasing Club Head Speed. It allows for more GIR and less backlash from missing those mid-range putts. With a slower swing speed, a player has to be excellent at every aspect of the game. The results of this study prove the difficulty of what golfers are doing especially those with a slower Club Head Speed. One important thing to note is that each of the golfers included in this study are of the best in the world. With the influx of powerful swings coming to the PGA in recent years, the ability of certain golfers with slow swing speeds to sustain their ability to compete is unexplainable by the numbers. \n",
    "\n",
    "<br><br>\n",
    "Increasing your club head speed as a golfer is difficult as there are physical limitations to improving it. So how do you improve Strokes Gained?\n",
    "- Avoiding 3-Putts\n",
    "- Going for the Green Successfully\n",
    "- Sand Saves\n",
    "- Clutch Putting"
   ]
  }
 ],
 "metadata": {
  "kernelspec": {
   "display_name": "Python 3",
   "language": "python",
   "name": "python3"
  },
  "language_info": {
   "codemirror_mode": {
    "name": "ipython",
    "version": 3
   },
   "file_extension": ".py",
   "mimetype": "text/x-python",
   "name": "python",
   "nbconvert_exporter": "python",
   "pygments_lexer": "ipython3",
   "version": "3.6.8"
  }
 },
 "nbformat": 4,
 "nbformat_minor": 2
}
