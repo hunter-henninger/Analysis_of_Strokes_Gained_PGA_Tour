{
 "cells": [
  {
   "cell_type": "markdown",
   "metadata": {},
   "source": [
    "# Data Wrangling and Cleaning\n",
    "---------"
   ]
  },
  {
   "cell_type": "markdown",
   "metadata": {},
   "source": [
    "## Objective\n",
    "aijdfbnkjasdnflka"
   ]
  },
  {
   "cell_type": "markdown",
   "metadata": {},
   "source": [
    "------\n",
    "#### External Libraries Import"
   ]
  },
  {
   "cell_type": "code",
   "execution_count": 1,
   "metadata": {},
   "outputs": [],
   "source": [
    "import pandas as pd\n",
    "import numpy as np\n",
    "from functions import fetch\n",
    "from os import listdir\n",
    "import warnings\n",
    "warnings.filterwarnings('ignore')"
   ]
  },
  {
   "cell_type": "markdown",
   "metadata": {},
   "source": [
    "#### Fetch and Observe Data for 50 players"
   ]
  },
  {
   "cell_type": "code",
   "execution_count": 2,
   "metadata": {},
   "outputs": [
    {
     "data": {
      "text/plain": [
       "50"
      ]
     },
     "execution_count": 2,
     "metadata": {},
     "output_type": "execute_result"
    }
   ],
   "source": [
    "# create list of all players in the Data folder\n",
    "players = listdir('../Data/')\n",
    "\n",
    "# remove unwanted files/folders\n",
    "players.remove('.DS_Store') \n",
    "players.remove('.ipynb_checkpoints')\n",
    "players.remove('Sets')\n",
    "len(players)"
   ]
  },
  {
   "cell_type": "code",
   "execution_count": 3,
   "metadata": {},
   "outputs": [
    {
     "data": {
      "text/html": [
       "<div>\n",
       "<style scoped>\n",
       "    .dataframe tbody tr th:only-of-type {\n",
       "        vertical-align: middle;\n",
       "    }\n",
       "\n",
       "    .dataframe tbody tr th {\n",
       "        vertical-align: top;\n",
       "    }\n",
       "\n",
       "    .dataframe thead th {\n",
       "        text-align: right;\n",
       "    }\n",
       "</style>\n",
       "<table border=\"1\" class=\"dataframe\">\n",
       "  <thead>\n",
       "    <tr style=\"text-align: right;\">\n",
       "      <th></th>\n",
       "      <th>date</th>\n",
       "      <th>tournament_x</th>\n",
       "      <th>finish_pos._x</th>\n",
       "      <th>sg:_tee-to-green</th>\n",
       "      <th>sg:_off-the-tee</th>\n",
       "      <th>driving_distance</th>\n",
       "      <th>driving_distance_-_all_drives</th>\n",
       "      <th>longest_drives</th>\n",
       "      <th>driving_accuracy_percentage</th>\n",
       "      <th>distance_from_edge_of_fairway</th>\n",
       "      <th>...</th>\n",
       "      <th>putting_-_inside_10'</th>\n",
       "      <th>putting_from_-_10-15'</th>\n",
       "      <th>putting_from_-_15-20'</th>\n",
       "      <th>putting_from_-_20-25'</th>\n",
       "      <th>putting_from_-_&gt;_25'</th>\n",
       "      <th>longest_putts</th>\n",
       "      <th>approach_putt_performance</th>\n",
       "      <th>average_distance_of_putts_made</th>\n",
       "      <th>birdie_or_better_conversion_percentage</th>\n",
       "      <th>player</th>\n",
       "    </tr>\n",
       "  </thead>\n",
       "  <tbody>\n",
       "    <tr>\n",
       "      <th>0</th>\n",
       "      <td>2019-01-20</td>\n",
       "      <td>Desert Classic</td>\n",
       "      <td>6</td>\n",
       "      <td>1.822</td>\n",
       "      <td>1.528</td>\n",
       "      <td>304.4</td>\n",
       "      <td>286.5</td>\n",
       "      <td>325</td>\n",
       "      <td>67.86</td>\n",
       "      <td>28' 11\"</td>\n",
       "      <td>...</td>\n",
       "      <td>85.29</td>\n",
       "      <td>33.33</td>\n",
       "      <td>25.00</td>\n",
       "      <td>25.00</td>\n",
       "      <td>20.00</td>\n",
       "      <td>32' 5\"</td>\n",
       "      <td>2' 2\"</td>\n",
       "      <td>92' 5\"</td>\n",
       "      <td>39.66</td>\n",
       "      <td>jon_rahm</td>\n",
       "    </tr>\n",
       "    <tr>\n",
       "      <th>1</th>\n",
       "      <td>2019-01-06</td>\n",
       "      <td>Sentry T of C</td>\n",
       "      <td>T8</td>\n",
       "      <td>1.763</td>\n",
       "      <td>.839</td>\n",
       "      <td>283.6</td>\n",
       "      <td>302.5</td>\n",
       "      <td>421</td>\n",
       "      <td>76.67</td>\n",
       "      <td>18' 4\"</td>\n",
       "      <td>...</td>\n",
       "      <td>89.74</td>\n",
       "      <td>.00</td>\n",
       "      <td>.00</td>\n",
       "      <td>.00</td>\n",
       "      <td>11.11</td>\n",
       "      <td>62' 10\"</td>\n",
       "      <td>2' 4\"</td>\n",
       "      <td>68' 7\"</td>\n",
       "      <td>32.20</td>\n",
       "      <td>jon_rahm</td>\n",
       "    </tr>\n",
       "    <tr>\n",
       "      <th>2</th>\n",
       "      <td>2018-12-02</td>\n",
       "      <td>(*) Hero World Challenge</td>\n",
       "      <td>1</td>\n",
       "      <td>NaN</td>\n",
       "      <td>NaN</td>\n",
       "      <td>NaN</td>\n",
       "      <td>NaN</td>\n",
       "      <td>NaN</td>\n",
       "      <td>NaN</td>\n",
       "      <td>NaN</td>\n",
       "      <td>...</td>\n",
       "      <td>NaN</td>\n",
       "      <td>NaN</td>\n",
       "      <td>NaN</td>\n",
       "      <td>NaN</td>\n",
       "      <td>NaN</td>\n",
       "      <td>NaN</td>\n",
       "      <td>NaN</td>\n",
       "      <td>NaN</td>\n",
       "      <td>NaN</td>\n",
       "      <td>jon_rahm</td>\n",
       "    </tr>\n",
       "    <tr>\n",
       "      <th>3</th>\n",
       "      <td>2018-10-28</td>\n",
       "      <td>WGC-HSBC Champions</td>\n",
       "      <td>T22</td>\n",
       "      <td>NaN</td>\n",
       "      <td>NaN</td>\n",
       "      <td>NaN</td>\n",
       "      <td>NaN</td>\n",
       "      <td>332</td>\n",
       "      <td>57.14</td>\n",
       "      <td>NaN</td>\n",
       "      <td>...</td>\n",
       "      <td>NaN</td>\n",
       "      <td>NaN</td>\n",
       "      <td>NaN</td>\n",
       "      <td>NaN</td>\n",
       "      <td>NaN</td>\n",
       "      <td>NaN</td>\n",
       "      <td>NaN</td>\n",
       "      <td>NaN</td>\n",
       "      <td>30.95</td>\n",
       "      <td>jon_rahm</td>\n",
       "    </tr>\n",
       "    <tr>\n",
       "      <th>4</th>\n",
       "      <td>2018-09-30</td>\n",
       "      <td>(*) Ryder Cup</td>\n",
       "      <td>1</td>\n",
       "      <td>NaN</td>\n",
       "      <td>NaN</td>\n",
       "      <td>NaN</td>\n",
       "      <td>NaN</td>\n",
       "      <td>NaN</td>\n",
       "      <td>NaN</td>\n",
       "      <td>NaN</td>\n",
       "      <td>...</td>\n",
       "      <td>NaN</td>\n",
       "      <td>NaN</td>\n",
       "      <td>NaN</td>\n",
       "      <td>NaN</td>\n",
       "      <td>NaN</td>\n",
       "      <td>NaN</td>\n",
       "      <td>NaN</td>\n",
       "      <td>NaN</td>\n",
       "      <td>NaN</td>\n",
       "      <td>jon_rahm</td>\n",
       "    </tr>\n",
       "  </tbody>\n",
       "</table>\n",
       "<p>5 rows × 101 columns</p>\n",
       "</div>"
      ],
      "text/plain": [
       "        date              tournament_x finish_pos._x sg:_tee-to-green  \\\n",
       "0 2019-01-20            Desert Classic             6            1.822   \n",
       "1 2019-01-06             Sentry T of C            T8            1.763   \n",
       "2 2018-12-02  (*) Hero World Challenge             1              NaN   \n",
       "3 2018-10-28        WGC-HSBC Champions           T22              NaN   \n",
       "4 2018-09-30             (*) Ryder Cup             1              NaN   \n",
       "\n",
       "  sg:_off-the-tee driving_distance driving_distance_-_all_drives  \\\n",
       "0           1.528            304.4                         286.5   \n",
       "1            .839            283.6                         302.5   \n",
       "2             NaN              NaN                           NaN   \n",
       "3             NaN              NaN                           NaN   \n",
       "4             NaN              NaN                           NaN   \n",
       "\n",
       "  longest_drives driving_accuracy_percentage distance_from_edge_of_fairway  \\\n",
       "0            325                       67.86                       28' 11\"   \n",
       "1            421                       76.67                        18' 4\"   \n",
       "2            NaN                         NaN                           NaN   \n",
       "3            332                       57.14                           NaN   \n",
       "4            NaN                         NaN                           NaN   \n",
       "\n",
       "     ...    putting_-_inside_10' putting_from_-_10-15' putting_from_-_15-20'  \\\n",
       "0    ...                   85.29                 33.33                 25.00   \n",
       "1    ...                   89.74                   .00                   .00   \n",
       "2    ...                     NaN                   NaN                   NaN   \n",
       "3    ...                     NaN                   NaN                   NaN   \n",
       "4    ...                     NaN                   NaN                   NaN   \n",
       "\n",
       "  putting_from_-_20-25' putting_from_-_>_25' longest_putts  \\\n",
       "0                 25.00                20.00        32' 5\"   \n",
       "1                   .00                11.11       62' 10\"   \n",
       "2                   NaN                  NaN           NaN   \n",
       "3                   NaN                  NaN           NaN   \n",
       "4                   NaN                  NaN           NaN   \n",
       "\n",
       "  approach_putt_performance average_distance_of_putts_made  \\\n",
       "0                     2' 2\"                         92' 5\"   \n",
       "1                     2' 4\"                         68' 7\"   \n",
       "2                       NaN                            NaN   \n",
       "3                       NaN                            NaN   \n",
       "4                       NaN                            NaN   \n",
       "\n",
       "  birdie_or_better_conversion_percentage    player  \n",
       "0                                  39.66  jon_rahm  \n",
       "1                                  32.20  jon_rahm  \n",
       "2                                    NaN  jon_rahm  \n",
       "3                                  30.95  jon_rahm  \n",
       "4                                    NaN  jon_rahm  \n",
       "\n",
       "[5 rows x 101 columns]"
      ]
     },
     "execution_count": 3,
     "metadata": {},
     "output_type": "execute_result"
    }
   ],
   "source": [
    "# fetch data for all 50 players using the fetch function in .py file\n",
    "df_pga = fetch(players)\n",
    "\n",
    "# observe raw data\n",
    "df_pga.head()"
   ]
  },
  {
   "cell_type": "markdown",
   "metadata": {},
   "source": [
    "### Drop unwanted rows and columns"
   ]
  },
  {
   "cell_type": "code",
   "execution_count": 4,
   "metadata": {},
   "outputs": [],
   "source": [
    "# replace unfinished tournaments with NaNs\n",
    "df_pga.replace('CUT', np.nan, inplace = True)\n",
    "df_pga.replace('W/D', np.nan, inplace = True)\n",
    "df_pga.replace('DQ', np.nan, inplace = True)"
   ]
  },
  {
   "cell_type": "code",
   "execution_count": 5,
   "metadata": {},
   "outputs": [
    {
     "name": "stdout",
     "output_type": "stream",
     "text": [
      "The dataset contains 4648 finished golf tournaments.\n",
      "The dataset includes 89 features.\n"
     ]
    }
   ],
   "source": [
    "# drop any row with missing data in any strokes gained column\n",
    "df_pga.dropna(subset = ['sg:_off-the-tee', \n",
    "                        'sg:_approach-the-green', \n",
    "                        'sg:_around-the-green', \n",
    "                        'sg:_putting', \n",
    "                        'club_head_speed',\n",
    "                        'finish'], inplace = True)\n",
    "# drop irrelevant features\n",
    "df_pga.drop(columns = ['finish_pos._x', 'finish_pos._y', 'tournament_x', 'tournament_y',\n",
    "                       'sg:_tee-to-green', 'total_driving_efficiency',\n",
    "                       'total_driving', 'total_putting'], inplace = True)\n",
    "\n",
    "# check number of rows and columns\n",
    "print(f'The dataset contains {df_pga.shape[0]} finished golf tournaments.')\n",
    "print(f'The dataset includes {df_pga.shape[1]} features.')"
   ]
  },
  {
   "cell_type": "markdown",
   "metadata": {},
   "source": [
    "###### In the scope of this study, any feature that takes into account a \"ranking\" does not matter. This analysis focuses on raw golf metrics that a golfer at any level of skill can measure."
   ]
  },
  {
   "cell_type": "markdown",
   "metadata": {},
   "source": [
    "### Create a Strokes Gained: Total column"
   ]
  },
  {
   "cell_type": "code",
   "execution_count": 6,
   "metadata": {},
   "outputs": [],
   "source": [
    "sg_stats = ['sg:_off-the-tee', \n",
    "            'sg:_approach-the-green', \n",
    "            'sg:_around-the-green', \n",
    "            'sg:_putting']\n",
    "\n",
    "# convert datatype to float\n",
    "for stat in sg_stats:\n",
    "    df_pga[stat] = df_pga[stat].astype(float)\n",
    "    \n",
    "# add up off-the-tee, approach-the-green, around-the-green, and putting \n",
    "df_pga['sg:_total'] = df_pga['sg:_off-the-tee'] \\\n",
    "+ df_pga['sg:_approach-the-green'] \\\n",
    "+ df_pga['sg:_around-the-green'] \\\n",
    "+ df_pga['sg:_putting']"
   ]
  },
  {
   "cell_type": "markdown",
   "metadata": {},
   "source": [
    "#### Save full dataset"
   ]
  },
  {
   "cell_type": "code",
   "execution_count": 7,
   "metadata": {},
   "outputs": [],
   "source": [
    "df_pga.to_csv('../Data/Sets/full_pga_data.csv', index = False)"
   ]
  }
 ],
 "metadata": {
  "kernelspec": {
   "display_name": "Python 3",
   "language": "python",
   "name": "python3"
  },
  "language_info": {
   "codemirror_mode": {
    "name": "ipython",
    "version": 3
   },
   "file_extension": ".py",
   "mimetype": "text/x-python",
   "name": "python",
   "nbconvert_exporter": "python",
   "pygments_lexer": "ipython3",
   "version": "3.6.8"
  }
 },
 "nbformat": 4,
 "nbformat_minor": 2
}
