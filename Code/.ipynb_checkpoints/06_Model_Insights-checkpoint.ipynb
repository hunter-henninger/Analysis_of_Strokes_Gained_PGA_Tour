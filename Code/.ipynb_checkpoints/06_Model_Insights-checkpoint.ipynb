{
 "cells": [
  {
   "cell_type": "markdown",
   "metadata": {},
   "source": [
    "# Model Insights\n",
    "---"
   ]
  },
  {
   "cell_type": "markdown",
   "metadata": {},
   "source": [
    "## Objective\n",
    "dskjfnasdljfn"
   ]
  },
  {
   "cell_type": "markdown",
   "metadata": {},
   "source": [
    "-----\n",
    "#### External Libraries Import"
   ]
  },
  {
   "cell_type": "code",
   "execution_count": 1,
   "metadata": {},
   "outputs": [],
   "source": [
    "import numpy as np\n",
    "import pandas as pd\n",
    "from sklearn.model_selection import train_test_split\n",
    "from sklearn.preprocessing import StandardScaler\n",
    "import pickle\n",
    "import warnings\n",
    "warnings.filterwarnings('ignore')"
   ]
  },
  {
   "cell_type": "markdown",
   "metadata": {},
   "source": [
    "#### Read Data and Models"
   ]
  },
  {
   "cell_type": "code",
   "execution_count": 2,
   "metadata": {},
   "outputs": [],
   "source": [
    "df_pga = pd.read_csv('../Data/Sets/final_model.csv')\n",
    "slow_model = pickle.load(open('../Best_Models/slow_model.pk', 'rb'))\n",
    "fast_model = pickle.load(open('../Best_Models/fast_model.pk', 'rb'))"
   ]
  },
  {
   "cell_type": "markdown",
   "metadata": {},
   "source": [
    "#### Prepare Data"
   ]
  },
  {
   "cell_type": "code",
   "execution_count": 3,
   "metadata": {},
   "outputs": [],
   "source": [
    "features = [\n",
    "    col for col in df_pga.columns if col not in ['date', 'finish', \n",
    "                                                  'player', 'event', \n",
    "                                                  'sg:_off-the-tee',\n",
    "                                                  'sg:_approach-the-green',\n",
    "                                                  'sg:_around-the-green',\n",
    "                                                  'sg:_putting',\n",
    "                                                  'sg:_total']]\n",
    "\n",
    "X = df_pga[features]\n",
    "y = df_pga['sg:_total']\n",
    "\n",
    "# train, test split\n",
    "X_train, X_test, y_train, y_test = train_test_split(X, y, \n",
    "                                                        test_size = 0.3, random_state = 77)\n",
    "\n",
    "# standardize the data using StandardScaler\n",
    "ss = StandardScaler()\n",
    "X_train_sc = ss.fit_transform(X_train)\n",
    "X_test_sc = ss.transform(X_test)"
   ]
  },
  {
   "cell_type": "markdown",
   "metadata": {},
   "source": [
    "## <u>Compare Models<u/>"
   ]
  },
  {
   "cell_type": "markdown",
   "metadata": {},
   "source": [
    "### Score Models on Full Dataset"
   ]
  },
  {
   "cell_type": "code",
   "execution_count": 4,
   "metadata": {},
   "outputs": [
    {
     "name": "stdout",
     "output_type": "stream",
     "text": [
      "The slow model explains 58.41% of total strokes gained.\n",
      "The fast model explains 61.32% of total strokes gained.\n"
     ]
    }
   ],
   "source": [
    "print(f'The slow model explains {round((slow_model.score(X_test_sc, y_test)*100), 2)}%\\\n",
    " of variation in total strokes gained.')\n",
    "print(f'The fast model explains {round((fast_model.score(X_test_sc, y_test)*100), 2)}%\\\n",
    " of variation in total strokes gained.')"
   ]
  },
  {
   "cell_type": "markdown",
   "metadata": {},
   "source": [
    "#### Takeaways:\n",
    "- Although the difference in explanatory power between the two models is only three percent, its meaningful in the unpredictable game of golf.\n",
    "- The difference demonstrates the fact that performance is more difficult to explain for golfers that swing the club slower."
   ]
  },
  {
   "cell_type": "markdown",
   "metadata": {},
   "source": [
    "### Interpret Coefficients"
   ]
  },
  {
   "cell_type": "markdown",
   "metadata": {},
   "source": [
    "#### Below Average Club Head Speed Players"
   ]
  },
  {
   "cell_type": "code",
   "execution_count": 12,
   "metadata": {},
   "outputs": [
    {
     "data": {
      "text/html": [
       "<div>\n",
       "<style scoped>\n",
       "    .dataframe tbody tr th:only-of-type {\n",
       "        vertical-align: middle;\n",
       "    }\n",
       "\n",
       "    .dataframe tbody tr th {\n",
       "        vertical-align: top;\n",
       "    }\n",
       "\n",
       "    .dataframe thead th {\n",
       "        text-align: right;\n",
       "    }\n",
       "</style>\n",
       "<table border=\"1\" class=\"dataframe\">\n",
       "  <thead>\n",
       "    <tr style=\"text-align: right;\">\n",
       "      <th></th>\n",
       "      <th>slow_coefs</th>\n",
       "      <th>slow_abs_coefs</th>\n",
       "      <th>std._dev</th>\n",
       "    </tr>\n",
       "  </thead>\n",
       "  <tbody>\n",
       "    <tr>\n",
       "      <th>greens_in_regulation_percentage</th>\n",
       "      <td>0.547266</td>\n",
       "      <td>0.547266</td>\n",
       "      <td>7.533094</td>\n",
       "    </tr>\n",
       "    <tr>\n",
       "      <th>scrambling</th>\n",
       "      <td>0.401197</td>\n",
       "      <td>0.401197</td>\n",
       "      <td>10.716159</td>\n",
       "    </tr>\n",
       "    <tr>\n",
       "      <th>putting_average</th>\n",
       "      <td>-0.353627</td>\n",
       "      <td>0.353627</td>\n",
       "      <td>0.078363</td>\n",
       "    </tr>\n",
       "    <tr>\n",
       "      <th>overall_putting_average</th>\n",
       "      <td>-0.175324</td>\n",
       "      <td>0.175324</td>\n",
       "      <td>0.074604</td>\n",
       "    </tr>\n",
       "    <tr>\n",
       "      <th>going_for_the_green_-_hit_green_pct.</th>\n",
       "      <td>0.100728</td>\n",
       "      <td>0.100728</td>\n",
       "      <td>18.173266</td>\n",
       "    </tr>\n",
       "    <tr>\n",
       "      <th>going_for_the_green_-_birdie_or_better</th>\n",
       "      <td>0.072928</td>\n",
       "      <td>0.072928</td>\n",
       "      <td>20.238183</td>\n",
       "    </tr>\n",
       "    <tr>\n",
       "      <th>putting_from_-_10-25'</th>\n",
       "      <td>0.070319</td>\n",
       "      <td>0.070319</td>\n",
       "      <td>27.231458</td>\n",
       "    </tr>\n",
       "    <tr>\n",
       "      <th>club_head_speed</th>\n",
       "      <td>0.060038</td>\n",
       "      <td>0.060038</td>\n",
       "      <td>4.235433</td>\n",
       "    </tr>\n",
       "    <tr>\n",
       "      <th>3-putt_avoidance</th>\n",
       "      <td>-0.048774</td>\n",
       "      <td>0.048774</td>\n",
       "      <td>2.034111</td>\n",
       "    </tr>\n",
       "    <tr>\n",
       "      <th>sand_save_percentage</th>\n",
       "      <td>0.043033</td>\n",
       "      <td>0.043033</td>\n",
       "      <td>22.914026</td>\n",
       "    </tr>\n",
       "    <tr>\n",
       "      <th>putting_-_inside_10'</th>\n",
       "      <td>0.041724</td>\n",
       "      <td>0.041724</td>\n",
       "      <td>3.627358</td>\n",
       "    </tr>\n",
       "    <tr>\n",
       "      <th>putting_from_6'</th>\n",
       "      <td>0.032051</td>\n",
       "      <td>0.032051</td>\n",
       "      <td>25.383788</td>\n",
       "    </tr>\n",
       "  </tbody>\n",
       "</table>\n",
       "</div>"
      ],
      "text/plain": [
       "                                        slow_coefs  slow_abs_coefs   std._dev\n",
       "greens_in_regulation_percentage           0.547266        0.547266   7.533094\n",
       "scrambling                                0.401197        0.401197  10.716159\n",
       "putting_average                          -0.353627        0.353627   0.078363\n",
       "overall_putting_average                  -0.175324        0.175324   0.074604\n",
       "going_for_the_green_-_hit_green_pct.      0.100728        0.100728  18.173266\n",
       "going_for_the_green_-_birdie_or_better    0.072928        0.072928  20.238183\n",
       "putting_from_-_10-25'                     0.070319        0.070319  27.231458\n",
       "club_head_speed                           0.060038        0.060038   4.235433\n",
       "3-putt_avoidance                         -0.048774        0.048774   2.034111\n",
       "sand_save_percentage                      0.043033        0.043033  22.914026\n",
       "putting_-_inside_10'                      0.041724        0.041724   3.627358\n",
       "putting_from_6'                           0.032051        0.032051  25.383788"
      ]
     },
     "execution_count": 12,
     "metadata": {},
     "output_type": "execute_result"
    }
   ],
   "source": [
    "slow = pd.DataFrame(slow_model.coef_, columns=['slow_coefs'])\n",
    "slow['slow_abs_coefs'] = abs(slow_model.coef_)\n",
    "slow.index = X_train.columns\n",
    "slow = slow.sort_values('slow_abs_coefs', ascending=False).head(12)\n",
    "\n",
    "# create standard deviation column\n",
    "slow_std = []\n",
    "for col in slow.index:\n",
    "    slow_std.append(df_pga[col].std())\n",
    "slow['std._dev'] = slow_std\n",
    "slow"
   ]
  },
  {
   "cell_type": "markdown",
   "metadata": {},
   "source": [
    "#### Above Average Club Head Speed Players"
   ]
  },
  {
   "cell_type": "code",
   "execution_count": 11,
   "metadata": {},
   "outputs": [
    {
     "data": {
      "text/html": [
       "<div>\n",
       "<style scoped>\n",
       "    .dataframe tbody tr th:only-of-type {\n",
       "        vertical-align: middle;\n",
       "    }\n",
       "\n",
       "    .dataframe tbody tr th {\n",
       "        vertical-align: top;\n",
       "    }\n",
       "\n",
       "    .dataframe thead th {\n",
       "        text-align: right;\n",
       "    }\n",
       "</style>\n",
       "<table border=\"1\" class=\"dataframe\">\n",
       "  <thead>\n",
       "    <tr style=\"text-align: right;\">\n",
       "      <th></th>\n",
       "      <th>fast_coefs</th>\n",
       "      <th>fast_abs_coefs</th>\n",
       "      <th>std._dev</th>\n",
       "    </tr>\n",
       "  </thead>\n",
       "  <tbody>\n",
       "    <tr>\n",
       "      <th>greens_in_regulation_percentage</th>\n",
       "      <td>0.785991</td>\n",
       "      <td>0.785991</td>\n",
       "      <td>7.533094</td>\n",
       "    </tr>\n",
       "    <tr>\n",
       "      <th>overall_putting_average</th>\n",
       "      <td>-0.497467</td>\n",
       "      <td>0.497467</td>\n",
       "      <td>0.074604</td>\n",
       "    </tr>\n",
       "    <tr>\n",
       "      <th>scrambling</th>\n",
       "      <td>0.471522</td>\n",
       "      <td>0.471522</td>\n",
       "      <td>10.716159</td>\n",
       "    </tr>\n",
       "    <tr>\n",
       "      <th>putting_average</th>\n",
       "      <td>-0.339779</td>\n",
       "      <td>0.339779</td>\n",
       "      <td>0.078363</td>\n",
       "    </tr>\n",
       "    <tr>\n",
       "      <th>going_for_the_green_-_hit_green_pct.</th>\n",
       "      <td>0.185050</td>\n",
       "      <td>0.185050</td>\n",
       "      <td>18.173266</td>\n",
       "    </tr>\n",
       "    <tr>\n",
       "      <th>one-putt_percentage</th>\n",
       "      <td>-0.108674</td>\n",
       "      <td>0.108674</td>\n",
       "      <td>6.335913</td>\n",
       "    </tr>\n",
       "    <tr>\n",
       "      <th>fairway_proximity</th>\n",
       "      <td>0.107791</td>\n",
       "      <td>0.107791</td>\n",
       "      <td>52.124938</td>\n",
       "    </tr>\n",
       "    <tr>\n",
       "      <th>putts_per_round</th>\n",
       "      <td>-0.098940</td>\n",
       "      <td>0.098940</td>\n",
       "      <td>1.342851</td>\n",
       "    </tr>\n",
       "    <tr>\n",
       "      <th>going_for_the_green</th>\n",
       "      <td>-0.094355</td>\n",
       "      <td>0.094355</td>\n",
       "      <td>19.284530</td>\n",
       "    </tr>\n",
       "    <tr>\n",
       "      <th>scrambling_from_10-30_yards</th>\n",
       "      <td>-0.082979</td>\n",
       "      <td>0.082979</td>\n",
       "      <td>33.867141</td>\n",
       "    </tr>\n",
       "    <tr>\n",
       "      <th>driving_distance</th>\n",
       "      <td>0.080954</td>\n",
       "      <td>0.080954</td>\n",
       "      <td>14.156061</td>\n",
       "    </tr>\n",
       "    <tr>\n",
       "      <th>club_head_speed</th>\n",
       "      <td>0.070501</td>\n",
       "      <td>0.070501</td>\n",
       "      <td>4.235433</td>\n",
       "    </tr>\n",
       "  </tbody>\n",
       "</table>\n",
       "</div>"
      ],
      "text/plain": [
       "                                      fast_coefs  fast_abs_coefs   std._dev\n",
       "greens_in_regulation_percentage         0.785991        0.785991   7.533094\n",
       "overall_putting_average                -0.497467        0.497467   0.074604\n",
       "scrambling                              0.471522        0.471522  10.716159\n",
       "putting_average                        -0.339779        0.339779   0.078363\n",
       "going_for_the_green_-_hit_green_pct.    0.185050        0.185050  18.173266\n",
       "one-putt_percentage                    -0.108674        0.108674   6.335913\n",
       "fairway_proximity                       0.107791        0.107791  52.124938\n",
       "putts_per_round                        -0.098940        0.098940   1.342851\n",
       "going_for_the_green                    -0.094355        0.094355  19.284530\n",
       "scrambling_from_10-30_yards            -0.082979        0.082979  33.867141\n",
       "driving_distance                        0.080954        0.080954  14.156061\n",
       "club_head_speed                         0.070501        0.070501   4.235433"
      ]
     },
     "execution_count": 11,
     "metadata": {},
     "output_type": "execute_result"
    }
   ],
   "source": [
    "fast = pd.DataFrame(fast_model.coef_, columns=['fast_coefs'])\n",
    "fast['fast_abs_coefs'] = abs(fast_model.coef_)\n",
    "fast.index = X_train.columns\n",
    "fast = fast.sort_values('fast_abs_coefs', ascending=False).head(12)\n",
    "\n",
    "# create standard deviation column\n",
    "fast_std = []\n",
    "for col in fast.index:\n",
    "    fast_std.append(df_pga[col].std())\n",
    "fast['std._dev'] = fast_std\n",
    "fast"
   ]
  },
  {
   "cell_type": "markdown",
   "metadata": {},
   "source": [
    "## Comparison of Slow Swing Golfers to Fast Swing Golfers"
   ]
  },
  {
   "cell_type": "markdown",
   "metadata": {},
   "source": [
    "- Size of coefficients\n",
    "    - The first thing to notice in this comparison is the magnitude of the coefficients. The fast swing speed model produced much larger coefficients than the slow swing speed model. \n",
    "    - A single standard deviation increase (0.0746 putts) in a players overall putting average decreases a fast swing speed players' strokes gained by 0.497 while it only decreases a slow swing speed players' strokes gained by only 0.175.\n",
    "<br><br>\n",
    "- Club head speed\n",
    "    - The strength of club head speed as a predictor is similar for both models. It increases a players strokes gained by 0.06 - 0.07 for every increase of 4.23 mph. \n",
    "<br><br>\n",
    "- Interesting takeaways\n",
    "    - Going for the green percentage hurts a golfer with a fast swing speed. This implies that there is a sweet spot for going for the green percentage; there are times when a player should not go for the green.\n",
    "    - Putting features hurt golfers with a fast swing speed much more than golfers with a slow swing speed.\n",
    "    - Important putts from 6 feet, 10 feet, 10-25 feet are stronger predictors for slower swing players. This is because they have to account for the strokes they lost before getting to the green.\n",
    "    - For players with a slow swing speed, areas that account for total strokes gained are more spread out among the putting and going for green statistics. This reiterates the fact that their success is more difficult to explain.\n",
    "    - For players with a fast swing speed, it is clear that their success comes from getting to the green in regulation, getting close to the hole off the fairway, and getting up and down around the green."
   ]
  },
  {
   "cell_type": "markdown",
   "metadata": {},
   "source": [
    "## Conclusion"
   ]
  },
  {
   "cell_type": "markdown",
   "metadata": {},
   "source": [
    "The biggest takeaway is that golfers with slower club head speeds are making up for it in some unexplainable way. The reason a fast club head speed helps players perform well in the game of golf is because the ball travels further not only off the tee but from the fairway as well. These players gain enough strokes from the tee and approaching the green that they give themselves room to miss a few putts. Whereas golfers with slower swing speeds have to make up for it when scrambling around the green and making long putts. \n",
    "<br><br>\n",
    "Increases your club head speed as a golfer is difficult and their are physical, biological limitations on improving it. So how do you improve strokes gained?\n",
    "- Clutch putting\n",
    "- Birdie Conversions\n",
    "- Going for green accuracy\n",
    "- Taking risks"
   ]
  }
 ],
 "metadata": {
  "kernelspec": {
   "display_name": "Python 3",
   "language": "python",
   "name": "python3"
  },
  "language_info": {
   "codemirror_mode": {
    "name": "ipython",
    "version": 3
   },
   "file_extension": ".py",
   "mimetype": "text/x-python",
   "name": "python",
   "nbconvert_exporter": "python",
   "pygments_lexer": "ipython3",
   "version": "3.6.8"
  }
 },
 "nbformat": 4,
 "nbformat_minor": 2
}
