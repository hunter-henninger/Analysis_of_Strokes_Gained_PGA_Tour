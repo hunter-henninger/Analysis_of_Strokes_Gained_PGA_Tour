{
 "cells": [
  {
   "cell_type": "markdown",
   "metadata": {},
   "source": [
    "# <u>Model Tuning\n",
    "-----"
   ]
  },
  {
   "cell_type": "markdown",
   "metadata": {},
   "source": [
    "## Objective\n",
    "This notebook aims to fit the most accurate model possible when predicting Strokes Gained. Through a series of training and testing various types of models, the one that explains the most variation in the data will be used to further analyze the relationship between Club Head Speed and player efficiency."
   ]
  },
  {
   "cell_type": "markdown",
   "metadata": {},
   "source": [
    "-----\n",
    "#### External Libraries Import"
   ]
  },
  {
   "cell_type": "code",
   "execution_count": 1,
   "metadata": {},
   "outputs": [],
   "source": [
    "import numpy as np\n",
    "import pandas as pd\n",
    "from sklearn.linear_model import LinearRegression, LassoCV, RidgeCV, ElasticNetCV\n",
    "from sklearn.model_selection import train_test_split, cross_val_score, KFold\n",
    "from sklearn.preprocessing import StandardScaler\n",
    "from sklearn.ensemble import RandomForestRegressor, ExtraTreesRegressor\n",
    "from pactools.grid_search import GridSearchCVProgressBar\n",
    "import pickle\n",
    "import warnings\n",
    "warnings.filterwarnings('ignore')"
   ]
  },
  {
   "cell_type": "markdown",
   "metadata": {},
   "source": [
    "#### Read Model 1 Dataframe"
   ]
  },
  {
   "cell_type": "code",
   "execution_count": 2,
   "metadata": {},
   "outputs": [],
   "source": [
    "df_pga = pd.read_csv('../Data/Sets/model_one.csv')"
   ]
  },
  {
   "cell_type": "markdown",
   "metadata": {},
   "source": [
    "### Prepare for Modeling"
   ]
  },
  {
   "cell_type": "markdown",
   "metadata": {},
   "source": [
    "#### Feature Reduction\n",
    "From the methods in Notebook 3, features are combined to decrease the number of features and boost the interpretability of the model."
   ]
  },
  {
   "cell_type": "code",
   "execution_count": 3,
   "metadata": {},
   "outputs": [],
   "source": [
    "# using the feature reductions from notebook 03\n",
    "\n",
    "# combine all approaches between 100 and 200 yards\n",
    "df_pga['approaches_from_100-200_yards'] = df_pga['approaches_from_100-125_yards'] + \\\n",
    "df_pga['approaches_from_125-150_yards'] + df_pga['approaches_from_150-175_yards'] + \\\n",
    "df_pga['approaches_from_175-200_yards']\n",
    "\n",
    "# combine all scrambling percentages between 10 and 30 yards\n",
    "df_pga['scrambling_from_10-30_yards'] = df_pga['scrambling_from_10-20_yards'] + \\\n",
    "                                        df_pga['scrambling_from_20-30_yards']\n",
    "\n",
    "# combine all putts between 10 and 25 feet\n",
    "df_pga['putting_from_-_10-25\\''] = df_pga['putting_from_-_10-15\\''] + \\\n",
    "df_pga['putting_from_-_15-20\\''] + df_pga['putting_from_-_20-25\\'']\n",
    "\n",
    "# drop columns\n",
    "df_pga.drop(columns = ['approaches_from_100-125_yards', 'approaches_from_125-150_yards',\n",
    "                       'approaches_from_150-175_yards', 'approaches_from_175-200_yards',\n",
    "                       'scrambling_from_10-20_yards', 'scrambling_from_20-30_yards',\n",
    "                       'putting_from_-_10-15\\'', 'putting_from_-_15-20\\'', \n",
    "                       'putting_from_-_20-25\\''], inplace = True)"
   ]
  },
  {
   "cell_type": "markdown",
   "metadata": {},
   "source": [
    "#### Save Final Dataframe"
   ]
  },
  {
   "cell_type": "code",
   "execution_count": 4,
   "metadata": {},
   "outputs": [],
   "source": [
    "df_pga.to_csv('../Data/Sets/final_model.csv', index = False)"
   ]
  },
  {
   "cell_type": "markdown",
   "metadata": {},
   "source": [
    "#### Train, Test Split and Scale"
   ]
  },
  {
   "cell_type": "code",
   "execution_count": 5,
   "metadata": {},
   "outputs": [],
   "source": [
    "# create list of features, remove irrelevant columns and strokes gained columns\n",
    "features = [\n",
    "    col for col in df_pga.columns if col not in ['date', 'finish', \n",
    "                                                  'player', 'event', \n",
    "                                                  'sg:_off-the-tee',\n",
    "                                                  'sg:_approach-the-green',\n",
    "                                                  'sg:_around-the-green',\n",
    "                                                  'sg:_putting',\n",
    "                                                  'sg:_total']]\n",
    "\n",
    "X = df_pga[features]\n",
    "y = df_pga['sg:_total']\n",
    "\n",
    "# train, test split\n",
    "X_train, X_test, y_train, y_test = train_test_split(X, y, \n",
    "                                                        test_size = 0.3, random_state = 77)\n",
    "\n",
    "# standardize the data using StandardScaler\n",
    "ss = StandardScaler()\n",
    "X_train_sc = ss.fit_transform(X_train)\n",
    "X_test_sc = ss.transform(X_test)"
   ]
  },
  {
   "cell_type": "markdown",
   "metadata": {},
   "source": [
    "## Modeling"
   ]
  },
  {
   "cell_type": "markdown",
   "metadata": {},
   "source": [
    "#### Linear Models"
   ]
  },
  {
   "cell_type": "code",
   "execution_count": 6,
   "metadata": {},
   "outputs": [
    {
     "name": "stdout",
     "output_type": "stream",
     "text": [
      "Linear Regression:\n",
      "Train Score: 0.5903701376204411.\n",
      "Test Score: 0.6024533231385061\n",
      "-----------\n",
      "Lasso Regression:\n",
      "Train Score: 0.5913890667229031.\n",
      "Test Score: 0.6031792503229226\n",
      "-----------\n",
      "Ridge Regression:\n",
      "Train Score: 0.5908146545439048.\n",
      "Test Score: 0.6020097899508954\n",
      "-----------\n",
      "Elastic Net Regression:\n",
      "Train Score: 0.5912889550238862.\n",
      "Test Score: 0.6026829288665122\n"
     ]
    }
   ],
   "source": [
    "# instantiate four linear models\n",
    "lr = LinearRegression().fit(X_train_sc, y_train)\n",
    "lasso = LassoCV().fit(X_train_sc, y_train)\n",
    "ridge = RidgeCV().fit(X_train_sc, y_train)\n",
    "en = ElasticNetCV(l1_ratio = [.1 , .5 , .7 , .9 , .95 , .99 , 1]).fit(X_train_sc, y_train)\n",
    "\n",
    "# include a shuffled KFold with 10 splits to emphasize the \n",
    "# accuracy of the cross-validation scores\n",
    "kf = KFold(n_splits = 10 , shuffle = True , random_state = 77)\n",
    "\n",
    "lr_cv = cross_val_score(lr, X_train_sc, y_train, cv=kf).mean()\n",
    "lasso_cv = cross_val_score(lasso, X_train_sc, y_train, cv=kf).mean()\n",
    "ridge_cv = cross_val_score(ridge, X_train_sc, y_train, cv=kf).mean()\n",
    "en_cv = cross_val_score(en, X_train_sc, y_train, cv=kf).mean()\n",
    "\n",
    "print('Linear Regression:')\n",
    "print(f'Train Score: {lr_cv}.')\n",
    "print(f'Test Score: {lr.score(X_test_sc, y_test)}')\n",
    "print('-----------')\n",
    "print('Lasso Regression:')\n",
    "print(f'Train Score: {lasso_cv}.')\n",
    "print(f'Test Score: {lasso.score(X_test_sc, y_test)}')\n",
    "print('-----------')\n",
    "print('Ridge Regression:')\n",
    "print(f'Train Score: {ridge_cv}.')\n",
    "print(f'Test Score: {ridge.score(X_test_sc, y_test)}')\n",
    "print('-----------')\n",
    "print('Elastic Net Regression:')\n",
    "print(f'Train Score: {en_cv}.')\n",
    "print(f'Test Score: {en.score(X_test_sc, y_test)}')"
   ]
  },
  {
   "cell_type": "markdown",
   "metadata": {},
   "source": [
    "- The LASSO model likely performed best because of the high number of features. "
   ]
  },
  {
   "cell_type": "markdown",
   "metadata": {},
   "source": [
    "#### Random Forest Regressor"
   ]
  },
  {
   "cell_type": "code",
   "execution_count": 7,
   "metadata": {},
   "outputs": [
    {
     "name": "stdout",
     "output_type": "stream",
     "text": [
      "Random Forest:\n",
      "Train Score: 0.544898603097128\n",
      "Test Score: 0.5508078968691739\n"
     ]
    }
   ],
   "source": [
    "rf = RandomForestRegressor()\n",
    "rf_params =  {\n",
    "        'n_estimators' : [20, 60, 100],\n",
    "        'max_depth' : [None, 2, 6, 10],\n",
    "        'min_samples_split' : [2, 3, 4] \n",
    "}\n",
    "\n",
    "gs_rf = GridSearchCVProgressBar(rf, param_grid = rf_params)\n",
    "gs_rf.fit(X_train_sc, y_train)\n",
    "print(f'Random Forest:')\n",
    "print(f'Train Score: {gs_rf.best_score_}')\n",
    "print(f'Test Score: {gs_rf.score(X_test_sc, y_test)}')"
   ]
  },
  {
   "cell_type": "markdown",
   "metadata": {},
   "source": [
    "#### Extra-Trees Regressor"
   ]
  },
  {
   "cell_type": "code",
   "execution_count": 8,
   "metadata": {},
   "outputs": [
    {
     "name": "stdout",
     "output_type": "stream",
     "text": [
      "Extra-Trees:\n",
      "Train Score: 0.5617186270376882\n",
      "Test Score: 0.5832676785033042\n"
     ]
    }
   ],
   "source": [
    "et = ExtraTreesRegressor()\n",
    "et_params = {\n",
    "        'n_estimators' : [20, 60, 100],\n",
    "        'max_depth' : [None, 6, 10, 14],\n",
    "        'min_samples_leaf' : [1, 2], \n",
    "        'min_samples_split' : [2, 3], \n",
    "}\n",
    "gs_et = GridSearchCVProgressBar(et, param_grid = et_params)\n",
    "gs_et.fit(X_train_sc, y_train)\n",
    "print(f'Extra-Trees:')\n",
    "print(f'Train Score: {gs_et.best_score_}')\n",
    "print(f'Test Score: {gs_et.score(X_test_sc, y_test)}')"
   ]
  },
  {
   "cell_type": "markdown",
   "metadata": {},
   "source": [
    "#### Save Best Model"
   ]
  },
  {
   "cell_type": "code",
   "execution_count": 9,
   "metadata": {},
   "outputs": [],
   "source": [
    "pickle.dump(lasso, open('../Best_Models/final_model.pk', 'wb'))"
   ]
  },
  {
   "cell_type": "markdown",
   "metadata": {},
   "source": [
    "#### Insight: \n",
    "- All of the linear models explained just over 60% of Strokes Gained variation compared to the mean. Because of lasso's feature selection process it explains 0.1% more than this other models.\n",
    "- Out of the two random trees regressors, Extra-Trees performed better explaining 58% of strokes gained variation (2% less than LASSO)."
   ]
  },
  {
   "cell_type": "markdown",
   "metadata": {},
   "source": [
    "## Model Coefficients and Important Features"
   ]
  },
  {
   "cell_type": "markdown",
   "metadata": {},
   "source": [
    "### Lasso"
   ]
  },
  {
   "cell_type": "code",
   "execution_count": 10,
   "metadata": {},
   "outputs": [
    {
     "data": {
      "text/html": [
       "<div>\n",
       "<style scoped>\n",
       "    .dataframe tbody tr th:only-of-type {\n",
       "        vertical-align: middle;\n",
       "    }\n",
       "\n",
       "    .dataframe tbody tr th {\n",
       "        vertical-align: top;\n",
       "    }\n",
       "\n",
       "    .dataframe thead th {\n",
       "        text-align: right;\n",
       "    }\n",
       "</style>\n",
       "<table border=\"1\" class=\"dataframe\">\n",
       "  <thead>\n",
       "    <tr style=\"text-align: right;\">\n",
       "      <th></th>\n",
       "      <th>coefs</th>\n",
       "      <th>abs_coefs</th>\n",
       "      <th>std._dev</th>\n",
       "    </tr>\n",
       "  </thead>\n",
       "  <tbody>\n",
       "    <tr>\n",
       "      <th>greens_in_regulation_percentage</th>\n",
       "      <td>0.647663</td>\n",
       "      <td>0.647663</td>\n",
       "      <td>7.533094</td>\n",
       "    </tr>\n",
       "    <tr>\n",
       "      <th>scrambling</th>\n",
       "      <td>0.463073</td>\n",
       "      <td>0.463073</td>\n",
       "      <td>10.716159</td>\n",
       "    </tr>\n",
       "    <tr>\n",
       "      <th>overall_putting_average</th>\n",
       "      <td>-0.323547</td>\n",
       "      <td>0.323547</td>\n",
       "      <td>0.074604</td>\n",
       "    </tr>\n",
       "    <tr>\n",
       "      <th>putting_average</th>\n",
       "      <td>-0.286532</td>\n",
       "      <td>0.286532</td>\n",
       "      <td>0.078363</td>\n",
       "    </tr>\n",
       "    <tr>\n",
       "      <th>one-putt_percentage</th>\n",
       "      <td>-0.260034</td>\n",
       "      <td>0.260034</td>\n",
       "      <td>6.335913</td>\n",
       "    </tr>\n",
       "    <tr>\n",
       "      <th>putts_per_round</th>\n",
       "      <td>-0.226114</td>\n",
       "      <td>0.226114</td>\n",
       "      <td>1.342851</td>\n",
       "    </tr>\n",
       "    <tr>\n",
       "      <th>birdie_or_better_conversion_percentage</th>\n",
       "      <td>0.131641</td>\n",
       "      <td>0.131641</td>\n",
       "      <td>6.984383</td>\n",
       "    </tr>\n",
       "    <tr>\n",
       "      <th>fairway_proximity</th>\n",
       "      <td>0.122027</td>\n",
       "      <td>0.122027</td>\n",
       "      <td>52.124938</td>\n",
       "    </tr>\n",
       "    <tr>\n",
       "      <th>going_for_the_green_-_hit_green_pct.</th>\n",
       "      <td>0.109558</td>\n",
       "      <td>0.109558</td>\n",
       "      <td>18.173266</td>\n",
       "    </tr>\n",
       "    <tr>\n",
       "      <th>club_head_speed</th>\n",
       "      <td>0.095398</td>\n",
       "      <td>0.095398</td>\n",
       "      <td>4.235433</td>\n",
       "    </tr>\n",
       "  </tbody>\n",
       "</table>\n",
       "</div>"
      ],
      "text/plain": [
       "                                           coefs  abs_coefs   std._dev\n",
       "greens_in_regulation_percentage         0.647663   0.647663   7.533094\n",
       "scrambling                              0.463073   0.463073  10.716159\n",
       "overall_putting_average                -0.323547   0.323547   0.074604\n",
       "putting_average                        -0.286532   0.286532   0.078363\n",
       "one-putt_percentage                    -0.260034   0.260034   6.335913\n",
       "putts_per_round                        -0.226114   0.226114   1.342851\n",
       "birdie_or_better_conversion_percentage  0.131641   0.131641   6.984383\n",
       "fairway_proximity                       0.122027   0.122027  52.124938\n",
       "going_for_the_green_-_hit_green_pct.    0.109558   0.109558  18.173266\n",
       "club_head_speed                         0.095398   0.095398   4.235433"
      ]
     },
     "execution_count": 10,
     "metadata": {},
     "output_type": "execute_result"
    }
   ],
   "source": [
    "# create a dataframe of coefficients to facilitate interpretation\n",
    "best_model = pd.DataFrame(lasso.coef_, columns=['coefs'])\n",
    "best_model['abs_coefs'] = abs(lasso.coef_)\n",
    "best_model.index = X_train.columns\n",
    "best_model = best_model.sort_values('abs_coefs', ascending=False).head(10)\n",
    "\n",
    "# create column of standard deviations\n",
    "lasso_std = []\n",
    "for col in best_model.index:\n",
    "    lasso_std.append(df_pga[col].std())\n",
    "best_model['std._dev'] = lasso_std\n",
    "best_model"
   ]
  },
  {
   "cell_type": "markdown",
   "metadata": {},
   "source": [
    "#### Takeaways:\n",
    "- As expected, percentage of GIR has the largest positive and overall effect on strokes gained. The coefficient implies that for every increase in one standard deviation (7.53%) of a players GIR percentage, their total strokes gained increases by about 0.647.\n",
    "- Overall putting average has the largest negative effect on strokes gained. For every increase in 0.0746 putts of a players overall putting average, their total strokes gained decreases by 0.323. \n",
    "- Club Head Speed is the 10th largest predictor. For every increase in 4.235mph in a players' swing speed, they should expect an increase in 0.0953 Strokes Gained."
   ]
  },
  {
   "cell_type": "markdown",
   "metadata": {},
   "source": [
    "### Extra-Trees"
   ]
  },
  {
   "cell_type": "code",
   "execution_count": 11,
   "metadata": {},
   "outputs": [
    {
     "data": {
      "text/html": [
       "<div>\n",
       "<style scoped>\n",
       "    .dataframe tbody tr th:only-of-type {\n",
       "        vertical-align: middle;\n",
       "    }\n",
       "\n",
       "    .dataframe tbody tr th {\n",
       "        vertical-align: top;\n",
       "    }\n",
       "\n",
       "    .dataframe thead th {\n",
       "        text-align: right;\n",
       "    }\n",
       "</style>\n",
       "<table border=\"1\" class=\"dataframe\">\n",
       "  <thead>\n",
       "    <tr style=\"text-align: right;\">\n",
       "      <th></th>\n",
       "      <th>Feature Importance</th>\n",
       "    </tr>\n",
       "  </thead>\n",
       "  <tbody>\n",
       "    <tr>\n",
       "      <th>greens_in_regulation_percentage</th>\n",
       "      <td>0.148040</td>\n",
       "    </tr>\n",
       "    <tr>\n",
       "      <th>scrambling</th>\n",
       "      <td>0.141461</td>\n",
       "    </tr>\n",
       "    <tr>\n",
       "      <th>putting_average</th>\n",
       "      <td>0.116505</td>\n",
       "    </tr>\n",
       "    <tr>\n",
       "      <th>birdie_or_better_conversion_percentage</th>\n",
       "      <td>0.077363</td>\n",
       "    </tr>\n",
       "    <tr>\n",
       "      <th>overall_putting_average</th>\n",
       "      <td>0.037523</td>\n",
       "    </tr>\n",
       "    <tr>\n",
       "      <th>putts_per_round</th>\n",
       "      <td>0.036976</td>\n",
       "    </tr>\n",
       "    <tr>\n",
       "      <th>going_for_the_green_-_birdie_or_better</th>\n",
       "      <td>0.019669</td>\n",
       "    </tr>\n",
       "    <tr>\n",
       "      <th>putting_-_inside_10'</th>\n",
       "      <td>0.018103</td>\n",
       "    </tr>\n",
       "    <tr>\n",
       "      <th>scrambling_from_10-30_yards</th>\n",
       "      <td>0.015354</td>\n",
       "    </tr>\n",
       "    <tr>\n",
       "      <th>one-putt_percentage</th>\n",
       "      <td>0.015186</td>\n",
       "    </tr>\n",
       "  </tbody>\n",
       "</table>\n",
       "</div>"
      ],
      "text/plain": [
       "                                        Feature Importance\n",
       "greens_in_regulation_percentage                   0.148040\n",
       "scrambling                                        0.141461\n",
       "putting_average                                   0.116505\n",
       "birdie_or_better_conversion_percentage            0.077363\n",
       "overall_putting_average                           0.037523\n",
       "putts_per_round                                   0.036976\n",
       "going_for_the_green_-_birdie_or_better            0.019669\n",
       "putting_-_inside_10'                              0.018103\n",
       "scrambling_from_10-30_yards                       0.015354\n",
       "one-putt_percentage                               0.015186"
      ]
     },
     "execution_count": 11,
     "metadata": {},
     "output_type": "execute_result"
    }
   ],
   "source": [
    "best_trees = pd.DataFrame(gs_et.best_estimator_.feature_importances_,\n",
    "                          columns=['Feature Importance'])\n",
    "best_trees.index = X_train.columns\n",
    "best_trees.sort_values('Feature Importance', ascending=False).head(10)"
   ]
  },
  {
   "cell_type": "markdown",
   "metadata": {},
   "source": [
    "#### Takeaways:\n",
    "- Comparing the Extra-Trees regressor with the LASSO model, there are many similarities between predictors. GIR percentage and scrambling percentage are the strongest predictors for both models.\n",
    "- The values for feature importance are uninterpretable other than observing magnitude and ranking them. \n",
    "- Club Head Speed does not appear as a top 10 predictor.\n",
    "\n",
    "### Insight:\n",
    "- The features appearing as strong predictors are the features that one would expect to influence Total Strokes Gained the most. GIR percentage and Scrambling by definition reduce the number of strokes for a golf tournament.\n",
    "- Because of the LASSO model's explanatory power and feature interpretability, a LASSO model will be used to explore Club Head Speed. "
   ]
  },
  {
   "cell_type": "markdown",
   "metadata": {},
   "source": [
    "<br><br>\n",
    "## Club Head Speed\n",
    "By dividing the data by Club Head Speed and fitting two separate models, a comparison of R-squared and coefficients offers significant results."
   ]
  },
  {
   "cell_type": "markdown",
   "metadata": {},
   "source": [
    "#### Split Data into two based on club head speed"
   ]
  },
  {
   "cell_type": "code",
   "execution_count": 12,
   "metadata": {},
   "outputs": [
    {
     "name": "stdout",
     "output_type": "stream",
     "text": [
      "The average club head speed in the data set is 115.51 mph\n"
     ]
    }
   ],
   "source": [
    "# check average Club Head Speed\n",
    "print(f\"The average club head speed in the data set is \\\n",
    "{round(df_pga['club_head_speed'].mean(), 2)} mph\")"
   ]
  },
  {
   "cell_type": "code",
   "execution_count": 13,
   "metadata": {},
   "outputs": [],
   "source": [
    "# dataframe of events with below average club head speed\n",
    "slow_data = df_pga[df_pga['club_head_speed'] < df_pga['club_head_speed'].mean()]\n",
    "# save\n",
    "slow_data.to_csv('../Data/Sets/slow_data.csv', index = False)\n",
    "\n",
    "# dataframe of events with above average club head speed\n",
    "fast_data = df_pga[df_pga['club_head_speed'] > df_pga['club_head_speed'].mean()]\n",
    "# save\n",
    "fast_data.to_csv('../Data/Sets/fast_data.csv', index = False)"
   ]
  },
  {
   "cell_type": "markdown",
   "metadata": {},
   "source": [
    "#### Comparing Total Strokes Gained "
   ]
  },
  {
   "cell_type": "code",
   "execution_count": 14,
   "metadata": {},
   "outputs": [
    {
     "name": "stdout",
     "output_type": "stream",
     "text": [
      "The average total strokes gained for golfers swinging below the average Club Head Speed is   0.9524.\n"
     ]
    }
   ],
   "source": [
    "print(f\"The average total strokes gained for golfers swinging \\\n",
    "below the average Club Head Speed is   \\\n",
    "{round(slow_data['sg:_total'].mean(), 4)}.\")"
   ]
  },
  {
   "cell_type": "code",
   "execution_count": 15,
   "metadata": {},
   "outputs": [
    {
     "name": "stdout",
     "output_type": "stream",
     "text": [
      "The average total strokes gained for golfers swinging above the average Club Head Speed is   1.0891.\n"
     ]
    }
   ],
   "source": [
    "print(f\"The average total strokes gained for golfers swinging \\\n",
    "above the average Club Head Speed is   \\\n",
    "{round(fast_data['sg:_total'].mean(), 4)}.\")"
   ]
  },
  {
   "cell_type": "markdown",
   "metadata": {},
   "source": [
    "### Preprocess\n",
    "Prepare data using same methods as before."
   ]
  },
  {
   "cell_type": "markdown",
   "metadata": {},
   "source": [
    "#### Slow Swing Speed"
   ]
  },
  {
   "cell_type": "code",
   "execution_count": 16,
   "metadata": {},
   "outputs": [],
   "source": [
    "# choose X and y variables\n",
    "X_slow = slow_data[features]\n",
    "y_slow = slow_data['sg:_total']\n",
    "\n",
    "# train test split\n",
    "X_slowtrain, X_slowtest, y_slowtrain, y_slowtest = train_test_split(X_slow, y_slow, \n",
    "                                                        test_size = 0.3, random_state = 77)\n",
    "\n",
    "# scale data\n",
    "ss_slow = StandardScaler()\n",
    "X_slowtrain_sc = ss_slow.fit_transform(X_slowtrain)\n",
    "X_slowtest_sc = ss_slow.transform(X_slowtest)"
   ]
  },
  {
   "cell_type": "markdown",
   "metadata": {},
   "source": [
    "#### Fast Swing Speed"
   ]
  },
  {
   "cell_type": "code",
   "execution_count": 17,
   "metadata": {},
   "outputs": [],
   "source": [
    "# same process\n",
    "X_fast = fast_data[features]\n",
    "y_fast = fast_data['sg:_total']\n",
    "\n",
    "X_fasttrain, X_fasttest, y_fasttrain, y_fasttest = train_test_split(X_fast, y_fast, \n",
    "                                                        test_size = 0.3, random_state = 77)\n",
    "\n",
    "ss_fast = StandardScaler()\n",
    "X_fasttrain_sc = ss_fast.fit_transform(X_fasttrain)\n",
    "X_fasttest_sc = ss_fast.transform(X_fasttest)"
   ]
  },
  {
   "cell_type": "markdown",
   "metadata": {},
   "source": [
    "### Fit a LASSO Regression to Both"
   ]
  },
  {
   "cell_type": "code",
   "execution_count": 18,
   "metadata": {},
   "outputs": [
    {
     "name": "stdout",
     "output_type": "stream",
     "text": [
      "Slow model produces an R-squared of 0.5817966093811695\n"
     ]
    }
   ],
   "source": [
    "slow_lasso = LassoCV()\n",
    "slow_model = slow_lasso.fit(X_slowtrain_sc, y_slowtrain)\n",
    "print(f'Slow model produces an R-squared of {slow_model.score(X_slowtest_sc, y_slowtest)}')\n",
    "\n",
    "# save model to pull insight\n",
    "pickle.dump(slow_model, open('../Best_Models/slow_model.pk', 'wb'))"
   ]
  },
  {
   "cell_type": "code",
   "execution_count": 19,
   "metadata": {},
   "outputs": [
    {
     "name": "stdout",
     "output_type": "stream",
     "text": [
      "Fast model produces an R-squared of 0.6340229852563167\n"
     ]
    }
   ],
   "source": [
    "fast_lasso = LassoCV()\n",
    "fast_model = fast_lasso.fit(X_fasttrain_sc, y_fasttrain)\n",
    "print(f'Fast model produces an R-squared of {fast_model.score(X_fasttest_sc, y_fasttest)}')\n",
    "\n",
    "# save model to pull insight\n",
    "pickle.dump(fast_model, open('../Best_Models/fast_model.pk', 'wb'))"
   ]
  },
  {
   "cell_type": "markdown",
   "metadata": {},
   "source": [
    "### Takeaways:\n",
    "- Fast model explains 5% more variation in the data than the slow model. This demonstrates the notion that it is slightly more difficult to explain the performance of a golfer with a slower swing speed.\n",
    "- Removing the golfers with slower Club Head Speed boosted the explanatory power of the model by 3%.\n",
    "<br><br>\n",
    "\n",
    "### Insight: \n",
    "- A 5% difference of predictive power between the two models points toward the unexplainable success of golfers with slow swing speeds. \n",
    "- Exploring the coefficients of the two models offers more direct insight into what separates golfers with slow swing speeds from those with fast swing speeds."
   ]
  }
 ],
 "metadata": {
  "kernelspec": {
   "display_name": "Python 3",
   "language": "python",
   "name": "python3"
  },
  "language_info": {
   "codemirror_mode": {
    "name": "ipython",
    "version": 3
   },
   "file_extension": ".py",
   "mimetype": "text/x-python",
   "name": "python",
   "nbconvert_exporter": "python",
   "pygments_lexer": "ipython3",
   "version": "3.6.8"
  }
 },
 "nbformat": 4,
 "nbformat_minor": 2
}
