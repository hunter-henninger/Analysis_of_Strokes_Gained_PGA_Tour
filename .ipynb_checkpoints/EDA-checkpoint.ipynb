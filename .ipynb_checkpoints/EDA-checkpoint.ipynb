{
 "cells": [
  {
   "cell_type": "markdown",
   "metadata": {},
   "source": [
    "# Data Wrangling and Cleaning"
   ]
  },
  {
   "cell_type": "markdown",
   "metadata": {},
   "source": [
    "#### External Libraries Import"
   ]
  },
  {
   "cell_type": "code",
   "execution_count": 1,
   "metadata": {},
   "outputs": [],
   "source": [
    "import pandas as pd\n",
    "import numpy as np\n",
    "from functools import reduce\n",
    "from functions import *"
   ]
  },
  {
   "cell_type": "markdown",
   "metadata": {},
   "source": [
    "#### Fetch Data for 50 players"
   ]
  },
  {
   "cell_type": "code",
   "execution_count": 2,
   "metadata": {},
   "outputs": [
    {
     "data": {
      "text/plain": [
       "50"
      ]
     },
     "execution_count": 2,
     "metadata": {},
     "output_type": "execute_result"
    }
   ],
   "source": [
    "players = ['aaron_wise', 'abraham_ancer', 'adam_hadwin', 'alex_noren',\n",
    "           'andrew_putnam', 'billy_horschel', 'branden_grace', 'brandt_snedeker', \n",
    "           'brian_harman', 'brooks_koepka', 'bryson_dechambeau', 'bubba_watson', \n",
    "           'byeong_hun_an', 'cameron_smith', 'charles_howell', 'charley_hoffman', \n",
    "           'chesson_hadley', 'chez_reavie', 'daniel_berger', 'dustin_johnson',\n",
    "           'haotong_li', 'hideki_matsuyama', 'jason_day', 'jon_rahm', \n",
    "           'jordan_spieth', 'justin_thomas', 'kevin_chappell', 'kevin_na',\n",
    "           'kyle_stanley', 'louis_oosthuizen', 'luke_list', 'marc_leishman', \n",
    "           'matt_kuchar', 'matthew_fitzpatrick','patrick_cantlay', 'patrick_reed',\n",
    "           'paul_casey','phil_mickelson', 'rafa_cabrera_bello', 'rickie_fowler', \n",
    "           'rory_mcilroy', 'russel_knox', 'satoshi_kodaira', 'thorbjorn_oleson', \n",
    "           'tiger_woods', 'tommy_fleetwood', 'tony_finau', 'tyrrell_hatton', \n",
    "           'webb_simpson', 'xander_schauffele']\n",
    "len(players)"
   ]
  },
  {
   "cell_type": "code",
   "execution_count": 3,
   "metadata": {},
   "outputs": [],
   "source": [
    "df_pga = fetch(players)"
   ]
  },
  {
   "cell_type": "code",
   "execution_count": 4,
   "metadata": {},
   "outputs": [
    {
     "data": {
      "text/html": [
       "<div>\n",
       "<style scoped>\n",
       "    .dataframe tbody tr th:only-of-type {\n",
       "        vertical-align: middle;\n",
       "    }\n",
       "\n",
       "    .dataframe tbody tr th {\n",
       "        vertical-align: top;\n",
       "    }\n",
       "\n",
       "    .dataframe thead th {\n",
       "        text-align: right;\n",
       "    }\n",
       "</style>\n",
       "<table border=\"1\" class=\"dataframe\">\n",
       "  <thead>\n",
       "    <tr style=\"text-align: right;\">\n",
       "      <th></th>\n",
       "      <th>date</th>\n",
       "      <th>finish_pos._x</th>\n",
       "      <th>sg:_tee-to-green</th>\n",
       "      <th>sg:_off-the-tee</th>\n",
       "      <th>driving_distance</th>\n",
       "      <th>driving_distance_-_all_drives</th>\n",
       "      <th>longest_drives</th>\n",
       "      <th>driving_accuracy_percentage</th>\n",
       "      <th>distance_from_edge_of_fairway</th>\n",
       "      <th>left_rough_tendency</th>\n",
       "      <th>...</th>\n",
       "      <th>putting_-_inside_10'</th>\n",
       "      <th>putting_from_-_10-15'</th>\n",
       "      <th>putting_from_-_15-20'</th>\n",
       "      <th>putting_from_-_20-25'</th>\n",
       "      <th>putting_from_-_&gt;_25'</th>\n",
       "      <th>longest_putts</th>\n",
       "      <th>approach_putt_performance</th>\n",
       "      <th>average_distance_of_putts_made</th>\n",
       "      <th>birdie_or_better_conversion_percentage</th>\n",
       "      <th>player</th>\n",
       "    </tr>\n",
       "    <tr>\n",
       "      <th>Tournament</th>\n",
       "      <th></th>\n",
       "      <th></th>\n",
       "      <th></th>\n",
       "      <th></th>\n",
       "      <th></th>\n",
       "      <th></th>\n",
       "      <th></th>\n",
       "      <th></th>\n",
       "      <th></th>\n",
       "      <th></th>\n",
       "      <th></th>\n",
       "      <th></th>\n",
       "      <th></th>\n",
       "      <th></th>\n",
       "      <th></th>\n",
       "      <th></th>\n",
       "      <th></th>\n",
       "      <th></th>\n",
       "      <th></th>\n",
       "      <th></th>\n",
       "      <th></th>\n",
       "    </tr>\n",
       "  </thead>\n",
       "  <tbody>\n",
       "    <tr>\n",
       "      <th>Farmers Insurance Open</th>\n",
       "      <td>2019-01-27</td>\n",
       "      <td>CUT</td>\n",
       "      <td>-1.867</td>\n",
       "      <td>.063</td>\n",
       "      <td>301.0</td>\n",
       "      <td>299.9</td>\n",
       "      <td>313</td>\n",
       "      <td>60.71</td>\n",
       "      <td>54' 0\"</td>\n",
       "      <td>7.69</td>\n",
       "      <td>...</td>\n",
       "      <td>89.47</td>\n",
       "      <td>20.00</td>\n",
       "      <td>.00</td>\n",
       "      <td>NaN</td>\n",
       "      <td>.00</td>\n",
       "      <td>12' 0\"</td>\n",
       "      <td>1' 10\"</td>\n",
       "      <td>62' 11\"</td>\n",
       "      <td>28.57</td>\n",
       "      <td>aaron_wise</td>\n",
       "    </tr>\n",
       "    <tr>\n",
       "      <th>Desert Classic</th>\n",
       "      <td>2019-01-20</td>\n",
       "      <td>CUT</td>\n",
       "      <td>-.614</td>\n",
       "      <td>-1.027</td>\n",
       "      <td>310.0</td>\n",
       "      <td>282.8</td>\n",
       "      <td>323</td>\n",
       "      <td>45.24</td>\n",
       "      <td>51' 9\"</td>\n",
       "      <td>28.57</td>\n",
       "      <td>...</td>\n",
       "      <td>88.89</td>\n",
       "      <td>25.00</td>\n",
       "      <td>NaN</td>\n",
       "      <td>.00</td>\n",
       "      <td>100.00</td>\n",
       "      <td>35' 7\"</td>\n",
       "      <td>2' 9\"</td>\n",
       "      <td>103' 7\"</td>\n",
       "      <td>37.84</td>\n",
       "      <td>aaron_wise</td>\n",
       "    </tr>\n",
       "    <tr>\n",
       "      <th>Sentry T of C</th>\n",
       "      <td>2019-01-06</td>\n",
       "      <td>T27</td>\n",
       "      <td>-1.263</td>\n",
       "      <td>.213</td>\n",
       "      <td>287.9</td>\n",
       "      <td>299.8</td>\n",
       "      <td>406</td>\n",
       "      <td>76.67</td>\n",
       "      <td>16' 11\"</td>\n",
       "      <td>6.67</td>\n",
       "      <td>...</td>\n",
       "      <td>83.12</td>\n",
       "      <td>20.00</td>\n",
       "      <td>57.14</td>\n",
       "      <td>.00</td>\n",
       "      <td>.00</td>\n",
       "      <td>19' 7\"</td>\n",
       "      <td>2' 3\"</td>\n",
       "      <td>65' 6\"</td>\n",
       "      <td>32.69</td>\n",
       "      <td>aaron_wise</td>\n",
       "    </tr>\n",
       "    <tr>\n",
       "      <th>Mayakoba Golf Classic</th>\n",
       "      <td>2018-11-11</td>\n",
       "      <td>T10</td>\n",
       "      <td>NaN</td>\n",
       "      <td>NaN</td>\n",
       "      <td>288.6</td>\n",
       "      <td>NaN</td>\n",
       "      <td>307</td>\n",
       "      <td>58.93</td>\n",
       "      <td>NaN</td>\n",
       "      <td>NaN</td>\n",
       "      <td>...</td>\n",
       "      <td>NaN</td>\n",
       "      <td>NaN</td>\n",
       "      <td>NaN</td>\n",
       "      <td>NaN</td>\n",
       "      <td>NaN</td>\n",
       "      <td>0\"</td>\n",
       "      <td>NaN</td>\n",
       "      <td>NaN</td>\n",
       "      <td>50.00</td>\n",
       "      <td>aaron_wise</td>\n",
       "    </tr>\n",
       "    <tr>\n",
       "      <th>Shriners Hospitals</th>\n",
       "      <td>2018-11-04</td>\n",
       "      <td>T15</td>\n",
       "      <td>1.244</td>\n",
       "      <td>1.104</td>\n",
       "      <td>333.0</td>\n",
       "      <td>312.1</td>\n",
       "      <td>357</td>\n",
       "      <td>69.64</td>\n",
       "      <td>29' 0\"</td>\n",
       "      <td>8.93</td>\n",
       "      <td>...</td>\n",
       "      <td>84.42</td>\n",
       "      <td>25.00</td>\n",
       "      <td>20.00</td>\n",
       "      <td>.00</td>\n",
       "      <td>20.00</td>\n",
       "      <td>53' 3\"</td>\n",
       "      <td>2' 0\"</td>\n",
       "      <td>93' 1\"</td>\n",
       "      <td>49.09</td>\n",
       "      <td>aaron_wise</td>\n",
       "    </tr>\n",
       "  </tbody>\n",
       "</table>\n",
       "<p>5 rows × 96 columns</p>\n",
       "</div>"
      ],
      "text/plain": [
       "                             date finish_pos._x sg:_tee-to-green  \\\n",
       "Tournament                                                         \n",
       "Farmers Insurance Open 2019-01-27           CUT           -1.867   \n",
       "Desert Classic         2019-01-20           CUT            -.614   \n",
       "Sentry T of C          2019-01-06           T27           -1.263   \n",
       "Mayakoba Golf Classic  2018-11-11           T10              NaN   \n",
       "Shriners Hospitals     2018-11-04           T15            1.244   \n",
       "\n",
       "                       sg:_off-the-tee driving_distance  \\\n",
       "Tournament                                                \n",
       "Farmers Insurance Open            .063            301.0   \n",
       "Desert Classic                  -1.027            310.0   \n",
       "Sentry T of C                     .213            287.9   \n",
       "Mayakoba Golf Classic              NaN            288.6   \n",
       "Shriners Hospitals               1.104            333.0   \n",
       "\n",
       "                       driving_distance_-_all_drives longest_drives  \\\n",
       "Tournament                                                            \n",
       "Farmers Insurance Open                         299.9            313   \n",
       "Desert Classic                                 282.8            323   \n",
       "Sentry T of C                                  299.8            406   \n",
       "Mayakoba Golf Classic                            NaN            307   \n",
       "Shriners Hospitals                             312.1            357   \n",
       "\n",
       "                       driving_accuracy_percentage  \\\n",
       "Tournament                                           \n",
       "Farmers Insurance Open                       60.71   \n",
       "Desert Classic                               45.24   \n",
       "Sentry T of C                                76.67   \n",
       "Mayakoba Golf Classic                        58.93   \n",
       "Shriners Hospitals                           69.64   \n",
       "\n",
       "                       distance_from_edge_of_fairway left_rough_tendency  \\\n",
       "Tournament                                                                 \n",
       "Farmers Insurance Open                        54' 0\"                7.69   \n",
       "Desert Classic                                51' 9\"               28.57   \n",
       "Sentry T of C                                16' 11\"                6.67   \n",
       "Mayakoba Golf Classic                            NaN                 NaN   \n",
       "Shriners Hospitals                            29' 0\"                8.93   \n",
       "\n",
       "                           ...     putting_-_inside_10' putting_from_-_10-15'  \\\n",
       "Tournament                 ...                                                  \n",
       "Farmers Insurance Open     ...                    89.47                 20.00   \n",
       "Desert Classic             ...                    88.89                 25.00   \n",
       "Sentry T of C              ...                    83.12                 20.00   \n",
       "Mayakoba Golf Classic      ...                      NaN                   NaN   \n",
       "Shriners Hospitals         ...                    84.42                 25.00   \n",
       "\n",
       "                       putting_from_-_15-20' putting_from_-_20-25'  \\\n",
       "Tournament                                                           \n",
       "Farmers Insurance Open                   .00                   NaN   \n",
       "Desert Classic                           NaN                   .00   \n",
       "Sentry T of C                          57.14                   .00   \n",
       "Mayakoba Golf Classic                    NaN                   NaN   \n",
       "Shriners Hospitals                     20.00                   .00   \n",
       "\n",
       "                       putting_from_-_>_25' longest_putts  \\\n",
       "Tournament                                                  \n",
       "Farmers Insurance Open                  .00        12' 0\"   \n",
       "Desert Classic                       100.00        35' 7\"   \n",
       "Sentry T of C                           .00        19' 7\"   \n",
       "Mayakoba Golf Classic                   NaN            0\"   \n",
       "Shriners Hospitals                    20.00        53' 3\"   \n",
       "\n",
       "                       approach_putt_performance  \\\n",
       "Tournament                                         \n",
       "Farmers Insurance Open                    1' 10\"   \n",
       "Desert Classic                             2' 9\"   \n",
       "Sentry T of C                              2' 3\"   \n",
       "Mayakoba Golf Classic                        NaN   \n",
       "Shriners Hospitals                         2' 0\"   \n",
       "\n",
       "                       average_distance_of_putts_made  \\\n",
       "Tournament                                              \n",
       "Farmers Insurance Open                        62' 11\"   \n",
       "Desert Classic                                103' 7\"   \n",
       "Sentry T of C                                  65' 6\"   \n",
       "Mayakoba Golf Classic                             NaN   \n",
       "Shriners Hospitals                             93' 1\"   \n",
       "\n",
       "                       birdie_or_better_conversion_percentage      player  \n",
       "Tournament                                                                 \n",
       "Farmers Insurance Open                                  28.57  aaron_wise  \n",
       "Desert Classic                                          37.84  aaron_wise  \n",
       "Sentry T of C                                           32.69  aaron_wise  \n",
       "Mayakoba Golf Classic                                   50.00  aaron_wise  \n",
       "Shriners Hospitals                                      49.09  aaron_wise  \n",
       "\n",
       "[5 rows x 96 columns]"
      ]
     },
     "execution_count": 4,
     "metadata": {},
     "output_type": "execute_result"
    }
   ],
   "source": [
    "df_pga.head()"
   ]
  },
  {
   "cell_type": "code",
   "execution_count": null,
   "metadata": {},
   "outputs": [],
   "source": [
    "df_pga.dropna(subset = ['sg:_off-the-tee', \n",
    "                        'sg:_approach-the-green', \n",
    "                        'sg:_around-the-green', \n",
    "                        'sg:_putting', \n",
    "                        'club_head_speed'], inplace = True)\n",
    "df_pga.drop(columns = ['finish_pos._x', 'finish_pos._y',\n",
    "                       'total_driving_efficiency',\n",
    "                       'total_driving' , 'total_putting'], inplace = True)"
   ]
  },
  {
   "cell_type": "code",
   "execution_count": null,
   "metadata": {},
   "outputs": [],
   "source": [
    "df1.dtypes"
   ]
  },
  {
   "cell_type": "code",
   "execution_count": null,
   "metadata": {},
   "outputs": [],
   "source": [
    "df2.dtypes"
   ]
  },
  {
   "cell_type": "code",
   "execution_count": null,
   "metadata": {},
   "outputs": [],
   "source": [
    "df3.dtypes"
   ]
  },
  {
   "cell_type": "code",
   "execution_count": null,
   "metadata": {},
   "outputs": [],
   "source": [
    "df4.dtypes"
   ]
  },
  {
   "cell_type": "code",
   "execution_count": null,
   "metadata": {},
   "outputs": [],
   "source": [
    "df_pga.shape"
   ]
  },
  {
   "cell_type": "code",
   "execution_count": null,
   "metadata": {},
   "outputs": [],
   "source": [
    "df_pga.dropna(subset = ['sg:_off-the-tee', \n",
    "                        'sg:_approach-the-green', \n",
    "                        'sg:_around-the-green', \n",
    "                        'sg:_putting', \n",
    "                        'club_head_speed'], inplace = True)\n",
    "df_pga.drop(columns = ['finish_pos._x', 'finish_pos._y',\n",
    "                       'total_driving_efficiency',\n",
    "                       'total_driving' , 'total_putting'], inplace = True)"
   ]
  },
  {
   "cell_type": "code",
   "execution_count": null,
   "metadata": {},
   "outputs": [],
   "source": [
    "df_pga.shape"
   ]
  },
  {
   "cell_type": "code",
   "execution_count": null,
   "metadata": {},
   "outputs": [],
   "source": [
    "sg_stats = ['sg:_off-the-tee', \n",
    "            'sg:_approach-the-green', \n",
    "            'sg:_around-the-green', \n",
    "            'sg:_putting']\n",
    "\n",
    "for stat in sg_stats:\n",
    "    df_pga[stat] = df_pga[stat].astype(float)"
   ]
  },
  {
   "cell_type": "code",
   "execution_count": null,
   "metadata": {},
   "outputs": [],
   "source": [
    "df_pga['sg:_total'] = df_pga['sg:_off-the-tee'] \\\n",
    "+ df_pga['sg:_approach-the-green'] \\\n",
    "+ df_pga['sg:_around-the-green'] \\\n",
    "+ df_pga['sg:_putting']"
   ]
  },
  {
   "cell_type": "code",
   "execution_count": null,
   "metadata": {},
   "outputs": [],
   "source": [
    "df_pga[df_pga['sg:_total'] == 5.939]['finish']"
   ]
  },
  {
   "cell_type": "code",
   "execution_count": null,
   "metadata": {},
   "outputs": [],
   "source": [
    "df_pga['finish'].value_counts()"
   ]
  },
  {
   "cell_type": "code",
   "execution_count": null,
   "metadata": {},
   "outputs": [],
   "source": [
    "df_pga[df_pga['finish'] == 'CUT']"
   ]
  },
  {
   "cell_type": "code",
   "execution_count": null,
   "metadata": {},
   "outputs": [],
   "source": [
    "df_pga.isnull().sum()"
   ]
  },
  {
   "cell_type": "code",
   "execution_count": null,
   "metadata": {},
   "outputs": [],
   "source": [
    "df_pga['total_hole_outs'].fillna(0, inplace=True)"
   ]
  },
  {
   "cell_type": "code",
   "execution_count": null,
   "metadata": {},
   "outputs": [],
   "source": [
    "df_pga.iloc[:, 50:90].isnull().sum()"
   ]
  },
  {
   "cell_type": "code",
   "execution_count": null,
   "metadata": {},
   "outputs": [],
   "source": [
    "for col in df_pga.columns:\n",
    "    if 'approaches' in col:\n",
    "        df_pga[col].fillna('0\\' 0\"', inplace = True)\n",
    "        df_pga[col] = df_pga[col].apply(lambda dist: to_inches(dist))\n",
    "        df_pga[f'encoded_{col}'] = df_pga[col].map(lambda x: 1 if x == 0.0 else 0)"
   ]
  },
  {
   "cell_type": "code",
   "execution_count": null,
   "metadata": {},
   "outputs": [],
   "source": []
  },
  {
   "cell_type": "code",
   "execution_count": null,
   "metadata": {},
   "outputs": [],
   "source": []
  },
  {
   "cell_type": "code",
   "execution_count": null,
   "metadata": {},
   "outputs": [],
   "source": []
  },
  {
   "cell_type": "code",
   "execution_count": null,
   "metadata": {},
   "outputs": [],
   "source": []
  },
  {
   "cell_type": "code",
   "execution_count": null,
   "metadata": {},
   "outputs": [],
   "source": [
    "dustin_df['proximity_to_hole'].str.extractall(r'(?P<feet>\\d+)\\' +(?P<inches>\\d+)\\\"')"
   ]
  },
  {
   "cell_type": "code",
   "execution_count": null,
   "metadata": {},
   "outputs": [],
   "source": [
    "df[df['A'].str.contains(\"hello\")]"
   ]
  },
  {
   "cell_type": "code",
   "execution_count": null,
   "metadata": {},
   "outputs": [],
   "source": [
    "dustin_df.columns"
   ]
  },
  {
   "cell_type": "code",
   "execution_count": null,
   "metadata": {},
   "outputs": [],
   "source": [
    "prox = dustin_df.filter(like = 'proximity')\n",
    "approaches = dustin_df.filter(like = 'approaches')\n",
    "distance = prox.join(approaches)\n",
    "\n",
    "distance['distance_from_edge_of_fairway'] = dustin_df['distance_from_edge_of_fairway']\n",
    "distance.isnull().sum()"
   ]
  },
  {
   "cell_type": "code",
   "execution_count": null,
   "metadata": {},
   "outputs": [],
   "source": [
    "dustin_df[\"proximity_to_hole\"].apply(lambda x:parse_ht(x))"
   ]
  },
  {
   "cell_type": "code",
   "execution_count": null,
   "metadata": {},
   "outputs": [],
   "source": [
    "dustin_df.shape"
   ]
  },
  {
   "cell_type": "code",
   "execution_count": null,
   "metadata": {},
   "outputs": [],
   "source": [
    "for col, val in enumerate(dustin_df.isnull().sum()):\n",
    "    if val > 0:\n",
    "        print(col , val)"
   ]
  },
  {
   "cell_type": "code",
   "execution_count": null,
   "metadata": {},
   "outputs": [],
   "source": [
    "dustin_df.iloc[:, 22]"
   ]
  },
  {
   "cell_type": "code",
   "execution_count": null,
   "metadata": {},
   "outputs": [],
   "source": [
    "dustin_df.iloc[123,:].isnull().sum()"
   ]
  },
  {
   "cell_type": "code",
   "execution_count": null,
   "metadata": {},
   "outputs": [],
   "source": []
  },
  {
   "cell_type": "code",
   "execution_count": null,
   "metadata": {},
   "outputs": [],
   "source": [
    "df_pga['sg:_off-the-tee']"
   ]
  },
  {
   "cell_type": "code",
   "execution_count": null,
   "metadata": {},
   "outputs": [],
   "source": [
    "df_pga['sg:_total'].sort_values(ascending=False)"
   ]
  }
 ],
 "metadata": {
  "kernelspec": {
   "display_name": "Python 3",
   "language": "python",
   "name": "python3"
  },
  "language_info": {
   "codemirror_mode": {
    "name": "ipython",
    "version": 3
   },
   "file_extension": ".py",
   "mimetype": "text/x-python",
   "name": "python",
   "nbconvert_exporter": "python",
   "pygments_lexer": "ipython3",
   "version": "3.6.8"
  }
 },
 "nbformat": 4,
 "nbformat_minor": 2
}
