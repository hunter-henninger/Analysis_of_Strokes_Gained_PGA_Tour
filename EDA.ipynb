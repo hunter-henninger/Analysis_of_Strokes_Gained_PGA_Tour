{
 "cells": [
  {
   "cell_type": "markdown",
   "metadata": {},
   "source": [
    "# Data Wrangling and Cleaning"
   ]
  },
  {
   "cell_type": "markdown",
   "metadata": {},
   "source": [
    "#### External Libraries Import"
   ]
  },
  {
   "cell_type": "code",
   "execution_count": 1,
   "metadata": {},
   "outputs": [],
   "source": [
    "import pandas as pd\n",
    "import numpy as np\n",
    "from functools import reduce\n",
    "from functions import *"
   ]
  },
  {
   "cell_type": "markdown",
   "metadata": {},
   "source": [
    "#### Fetch Data for 50 players"
   ]
  },
  {
   "cell_type": "code",
   "execution_count": 53,
   "metadata": {},
   "outputs": [
    {
     "data": {
      "text/plain": [
       "50"
      ]
     },
     "execution_count": 53,
     "metadata": {},
     "output_type": "execute_result"
    }
   ],
   "source": [
    "players = ['aaron_wise', 'abraham_ancer', 'adam_hadwin', 'alex_noren',\n",
    "           'andrew_putnam', 'billy_horschel', 'branden_grace', 'brandt_snedeker', \n",
    "           'brian_harman', 'brooks_koepka', 'bryson_dechambeau', 'bubba_watson', \n",
    "           'byeong_hun_an', 'cameron_smith', 'charles_howell', 'charley_hoffman', \n",
    "           'chesson_hadley', 'chez_reavie', 'daniel_berger', 'dustin_johnson',\n",
    "           'haotong_li', 'hideki_matsuyama', 'jason_day', 'jon_rahm', \n",
    "           'jordan_spieth', 'justin_thomas', 'kevin_chappell', 'kevin_na',\n",
    "           'kyle_stanley', 'louis_oosthuizen', 'luke_list', 'marc_leishman', \n",
    "           'matt_kuchar', 'matthew_fitzpatrick','patrick_cantlay', 'patrick_reed',\n",
    "           'paul_casey','phil_mickelson', 'rafa_cabrera_bello', 'rickie_fowler', \n",
    "           'rory_mcilroy', 'russel_knox', 'satoshi_kodaira', 'thorbjorn_oleson', \n",
    "           'tiger_woods', 'tommy_fleetwood', 'tony_finau', 'tyrrell_hatton', \n",
    "           'webb_simpson', 'xander_schauffele']\n",
    "len(players)"
   ]
  },
  {
   "cell_type": "code",
   "execution_count": 54,
   "metadata": {},
   "outputs": [],
   "source": [
    "df_pga = fetch(players)"
   ]
  },
  {
   "cell_type": "code",
   "execution_count": 55,
   "metadata": {},
   "outputs": [
    {
     "data": {
      "text/html": [
       "<div>\n",
       "<style scoped>\n",
       "    .dataframe tbody tr th:only-of-type {\n",
       "        vertical-align: middle;\n",
       "    }\n",
       "\n",
       "    .dataframe tbody tr th {\n",
       "        vertical-align: top;\n",
       "    }\n",
       "\n",
       "    .dataframe thead th {\n",
       "        text-align: right;\n",
       "    }\n",
       "</style>\n",
       "<table border=\"1\" class=\"dataframe\">\n",
       "  <thead>\n",
       "    <tr style=\"text-align: right;\">\n",
       "      <th></th>\n",
       "      <th>date</th>\n",
       "      <th>finish_pos._x</th>\n",
       "      <th>sg:_tee-to-green</th>\n",
       "      <th>sg:_off-the-tee</th>\n",
       "      <th>driving_distance</th>\n",
       "      <th>driving_distance_-_all_drives</th>\n",
       "      <th>longest_drives</th>\n",
       "      <th>driving_accuracy_percentage</th>\n",
       "      <th>distance_from_edge_of_fairway</th>\n",
       "      <th>left_rough_tendency</th>\n",
       "      <th>...</th>\n",
       "      <th>putting_-_inside_10'</th>\n",
       "      <th>putting_from_-_10-15'</th>\n",
       "      <th>putting_from_-_15-20'</th>\n",
       "      <th>putting_from_-_20-25'</th>\n",
       "      <th>putting_from_-_&gt;_25'</th>\n",
       "      <th>longest_putts</th>\n",
       "      <th>approach_putt_performance</th>\n",
       "      <th>average_distance_of_putts_made</th>\n",
       "      <th>birdie_or_better_conversion_percentage</th>\n",
       "      <th>player</th>\n",
       "    </tr>\n",
       "    <tr>\n",
       "      <th>Tournament</th>\n",
       "      <th></th>\n",
       "      <th></th>\n",
       "      <th></th>\n",
       "      <th></th>\n",
       "      <th></th>\n",
       "      <th></th>\n",
       "      <th></th>\n",
       "      <th></th>\n",
       "      <th></th>\n",
       "      <th></th>\n",
       "      <th></th>\n",
       "      <th></th>\n",
       "      <th></th>\n",
       "      <th></th>\n",
       "      <th></th>\n",
       "      <th></th>\n",
       "      <th></th>\n",
       "      <th></th>\n",
       "      <th></th>\n",
       "      <th></th>\n",
       "      <th></th>\n",
       "    </tr>\n",
       "  </thead>\n",
       "  <tbody>\n",
       "    <tr>\n",
       "      <th>Farmers Insurance Open</th>\n",
       "      <td>2019-01-27</td>\n",
       "      <td>CUT</td>\n",
       "      <td>-1.867</td>\n",
       "      <td>.063</td>\n",
       "      <td>301.0</td>\n",
       "      <td>299.9</td>\n",
       "      <td>313</td>\n",
       "      <td>60.71</td>\n",
       "      <td>54' 0\"</td>\n",
       "      <td>7.69</td>\n",
       "      <td>...</td>\n",
       "      <td>89.47</td>\n",
       "      <td>20.00</td>\n",
       "      <td>.00</td>\n",
       "      <td>NaN</td>\n",
       "      <td>.00</td>\n",
       "      <td>12' 0\"</td>\n",
       "      <td>1' 10\"</td>\n",
       "      <td>62' 11\"</td>\n",
       "      <td>28.57</td>\n",
       "      <td>aaron_wise</td>\n",
       "    </tr>\n",
       "    <tr>\n",
       "      <th>Desert Classic</th>\n",
       "      <td>2019-01-20</td>\n",
       "      <td>CUT</td>\n",
       "      <td>-.614</td>\n",
       "      <td>-1.027</td>\n",
       "      <td>310.0</td>\n",
       "      <td>282.8</td>\n",
       "      <td>323</td>\n",
       "      <td>45.24</td>\n",
       "      <td>51' 9\"</td>\n",
       "      <td>28.57</td>\n",
       "      <td>...</td>\n",
       "      <td>88.89</td>\n",
       "      <td>25.00</td>\n",
       "      <td>NaN</td>\n",
       "      <td>.00</td>\n",
       "      <td>100.00</td>\n",
       "      <td>35' 7\"</td>\n",
       "      <td>2' 9\"</td>\n",
       "      <td>103' 7\"</td>\n",
       "      <td>37.84</td>\n",
       "      <td>aaron_wise</td>\n",
       "    </tr>\n",
       "    <tr>\n",
       "      <th>Sentry T of C</th>\n",
       "      <td>2019-01-06</td>\n",
       "      <td>T27</td>\n",
       "      <td>-1.263</td>\n",
       "      <td>.213</td>\n",
       "      <td>287.9</td>\n",
       "      <td>299.8</td>\n",
       "      <td>406</td>\n",
       "      <td>76.67</td>\n",
       "      <td>16' 11\"</td>\n",
       "      <td>6.67</td>\n",
       "      <td>...</td>\n",
       "      <td>83.12</td>\n",
       "      <td>20.00</td>\n",
       "      <td>57.14</td>\n",
       "      <td>.00</td>\n",
       "      <td>.00</td>\n",
       "      <td>19' 7\"</td>\n",
       "      <td>2' 3\"</td>\n",
       "      <td>65' 6\"</td>\n",
       "      <td>32.69</td>\n",
       "      <td>aaron_wise</td>\n",
       "    </tr>\n",
       "    <tr>\n",
       "      <th>Mayakoba Golf Classic</th>\n",
       "      <td>2018-11-11</td>\n",
       "      <td>T10</td>\n",
       "      <td>NaN</td>\n",
       "      <td>NaN</td>\n",
       "      <td>288.6</td>\n",
       "      <td>NaN</td>\n",
       "      <td>307</td>\n",
       "      <td>58.93</td>\n",
       "      <td>NaN</td>\n",
       "      <td>NaN</td>\n",
       "      <td>...</td>\n",
       "      <td>NaN</td>\n",
       "      <td>NaN</td>\n",
       "      <td>NaN</td>\n",
       "      <td>NaN</td>\n",
       "      <td>NaN</td>\n",
       "      <td>0\"</td>\n",
       "      <td>NaN</td>\n",
       "      <td>NaN</td>\n",
       "      <td>50.00</td>\n",
       "      <td>aaron_wise</td>\n",
       "    </tr>\n",
       "    <tr>\n",
       "      <th>Shriners Hospitals</th>\n",
       "      <td>2018-11-04</td>\n",
       "      <td>T15</td>\n",
       "      <td>1.244</td>\n",
       "      <td>1.104</td>\n",
       "      <td>333.0</td>\n",
       "      <td>312.1</td>\n",
       "      <td>357</td>\n",
       "      <td>69.64</td>\n",
       "      <td>29' 0\"</td>\n",
       "      <td>8.93</td>\n",
       "      <td>...</td>\n",
       "      <td>84.42</td>\n",
       "      <td>25.00</td>\n",
       "      <td>20.00</td>\n",
       "      <td>.00</td>\n",
       "      <td>20.00</td>\n",
       "      <td>53' 3\"</td>\n",
       "      <td>2' 0\"</td>\n",
       "      <td>93' 1\"</td>\n",
       "      <td>49.09</td>\n",
       "      <td>aaron_wise</td>\n",
       "    </tr>\n",
       "  </tbody>\n",
       "</table>\n",
       "<p>5 rows × 96 columns</p>\n",
       "</div>"
      ],
      "text/plain": [
       "                             date finish_pos._x sg:_tee-to-green  \\\n",
       "Tournament                                                         \n",
       "Farmers Insurance Open 2019-01-27           CUT           -1.867   \n",
       "Desert Classic         2019-01-20           CUT            -.614   \n",
       "Sentry T of C          2019-01-06           T27           -1.263   \n",
       "Mayakoba Golf Classic  2018-11-11           T10              NaN   \n",
       "Shriners Hospitals     2018-11-04           T15            1.244   \n",
       "\n",
       "                       sg:_off-the-tee driving_distance  \\\n",
       "Tournament                                                \n",
       "Farmers Insurance Open            .063            301.0   \n",
       "Desert Classic                  -1.027            310.0   \n",
       "Sentry T of C                     .213            287.9   \n",
       "Mayakoba Golf Classic              NaN            288.6   \n",
       "Shriners Hospitals               1.104            333.0   \n",
       "\n",
       "                       driving_distance_-_all_drives longest_drives  \\\n",
       "Tournament                                                            \n",
       "Farmers Insurance Open                         299.9            313   \n",
       "Desert Classic                                 282.8            323   \n",
       "Sentry T of C                                  299.8            406   \n",
       "Mayakoba Golf Classic                            NaN            307   \n",
       "Shriners Hospitals                             312.1            357   \n",
       "\n",
       "                       driving_accuracy_percentage  \\\n",
       "Tournament                                           \n",
       "Farmers Insurance Open                       60.71   \n",
       "Desert Classic                               45.24   \n",
       "Sentry T of C                                76.67   \n",
       "Mayakoba Golf Classic                        58.93   \n",
       "Shriners Hospitals                           69.64   \n",
       "\n",
       "                       distance_from_edge_of_fairway left_rough_tendency  \\\n",
       "Tournament                                                                 \n",
       "Farmers Insurance Open                        54' 0\"                7.69   \n",
       "Desert Classic                                51' 9\"               28.57   \n",
       "Sentry T of C                                16' 11\"                6.67   \n",
       "Mayakoba Golf Classic                            NaN                 NaN   \n",
       "Shriners Hospitals                            29' 0\"                8.93   \n",
       "\n",
       "                           ...     putting_-_inside_10' putting_from_-_10-15'  \\\n",
       "Tournament                 ...                                                  \n",
       "Farmers Insurance Open     ...                    89.47                 20.00   \n",
       "Desert Classic             ...                    88.89                 25.00   \n",
       "Sentry T of C              ...                    83.12                 20.00   \n",
       "Mayakoba Golf Classic      ...                      NaN                   NaN   \n",
       "Shriners Hospitals         ...                    84.42                 25.00   \n",
       "\n",
       "                       putting_from_-_15-20' putting_from_-_20-25'  \\\n",
       "Tournament                                                           \n",
       "Farmers Insurance Open                   .00                   NaN   \n",
       "Desert Classic                           NaN                   .00   \n",
       "Sentry T of C                          57.14                   .00   \n",
       "Mayakoba Golf Classic                    NaN                   NaN   \n",
       "Shriners Hospitals                     20.00                   .00   \n",
       "\n",
       "                       putting_from_-_>_25' longest_putts  \\\n",
       "Tournament                                                  \n",
       "Farmers Insurance Open                  .00        12' 0\"   \n",
       "Desert Classic                       100.00        35' 7\"   \n",
       "Sentry T of C                           .00        19' 7\"   \n",
       "Mayakoba Golf Classic                   NaN            0\"   \n",
       "Shriners Hospitals                    20.00        53' 3\"   \n",
       "\n",
       "                       approach_putt_performance  \\\n",
       "Tournament                                         \n",
       "Farmers Insurance Open                    1' 10\"   \n",
       "Desert Classic                             2' 9\"   \n",
       "Sentry T of C                              2' 3\"   \n",
       "Mayakoba Golf Classic                        NaN   \n",
       "Shriners Hospitals                         2' 0\"   \n",
       "\n",
       "                       average_distance_of_putts_made  \\\n",
       "Tournament                                              \n",
       "Farmers Insurance Open                        62' 11\"   \n",
       "Desert Classic                                103' 7\"   \n",
       "Sentry T of C                                  65' 6\"   \n",
       "Mayakoba Golf Classic                             NaN   \n",
       "Shriners Hospitals                             93' 1\"   \n",
       "\n",
       "                       birdie_or_better_conversion_percentage      player  \n",
       "Tournament                                                                 \n",
       "Farmers Insurance Open                                  28.57  aaron_wise  \n",
       "Desert Classic                                          37.84  aaron_wise  \n",
       "Sentry T of C                                           32.69  aaron_wise  \n",
       "Mayakoba Golf Classic                                   50.00  aaron_wise  \n",
       "Shriners Hospitals                                      49.09  aaron_wise  \n",
       "\n",
       "[5 rows x 96 columns]"
      ]
     },
     "execution_count": 55,
     "metadata": {},
     "output_type": "execute_result"
    }
   ],
   "source": [
    "df_pga.head()"
   ]
  },
  {
   "cell_type": "code",
   "execution_count": 56,
   "metadata": {},
   "outputs": [],
   "source": [
    "df_pga.replace('CUT', np.nan, inplace = True)\n",
    "df_pga.replace('W/D', np.nan, inplace = True)\n",
    "df_pga.replace('DQ', np.nan, inplace = True)"
   ]
  },
  {
   "cell_type": "code",
   "execution_count": 57,
   "metadata": {},
   "outputs": [],
   "source": [
    "df_pga.dropna(subset = ['sg:_off-the-tee', \n",
    "                        'sg:_approach-the-green', \n",
    "                        'sg:_around-the-green', \n",
    "                        'sg:_putting', \n",
    "                        'club_head_speed',\n",
    "                        'finish'], inplace = True)\n",
    "df_pga.drop(columns = ['finish_pos._x', 'finish_pos._y',\n",
    "                       'total_driving_efficiency',\n",
    "                       'total_driving' , 'total_putting'], inplace = True)"
   ]
  },
  {
   "cell_type": "code",
   "execution_count": 58,
   "metadata": {},
   "outputs": [
    {
     "data": {
      "text/plain": [
       "(4218, 89)"
      ]
     },
     "execution_count": 58,
     "metadata": {},
     "output_type": "execute_result"
    }
   ],
   "source": [
    "df_pga.shape"
   ]
  },
  {
   "cell_type": "code",
   "execution_count": 59,
   "metadata": {},
   "outputs": [
    {
     "data": {
      "text/plain": [
       "115.57135846372702"
      ]
     },
     "execution_count": 59,
     "metadata": {},
     "output_type": "execute_result"
    }
   ],
   "source": [
    "df_pga['club_head_speed'].astype(float).mean()"
   ]
  },
  {
   "cell_type": "code",
   "execution_count": 60,
   "metadata": {},
   "outputs": [],
   "source": [
    "sg_stats = ['sg:_off-the-tee', \n",
    "            'sg:_approach-the-green', \n",
    "            'sg:_around-the-green', \n",
    "            'sg:_putting']\n",
    "\n",
    "for stat in sg_stats:\n",
    "    df_pga[stat] = df_pga[stat].astype(float)"
   ]
  },
  {
   "cell_type": "code",
   "execution_count": 61,
   "metadata": {},
   "outputs": [],
   "source": [
    "df_pga['sg:_total'] = df_pga['sg:_off-the-tee'] \\\n",
    "+ df_pga['sg:_approach-the-green'] \\\n",
    "+ df_pga['sg:_around-the-green'] \\\n",
    "+ df_pga['sg:_putting']"
   ]
  },
  {
   "cell_type": "code",
   "execution_count": 62,
   "metadata": {},
   "outputs": [
    {
     "data": {
      "text/plain": [
       "Index(['date', 'sg:_tee-to-green', 'sg:_off-the-tee', 'driving_distance',\n",
       "       'driving_distance_-_all_drives', 'longest_drives',\n",
       "       'driving_accuracy_percentage', 'distance_from_edge_of_fairway',\n",
       "       'left_rough_tendency', 'right_rough_tendency', 'club_head_speed',\n",
       "       'finish', 'sg:_approach-the-green', 'greens_in_regulation_percentage',\n",
       "       'going_for_the_green', 'going_for_the_green_-_hit_green_pct.',\n",
       "       'going_for_the_green_-_birdie_or_better', 'proximity_to_hole',\n",
       "       'rough_proximity', 'left_rough_proximity', 'right_rough_proximity',\n",
       "       'fairway_proximity', 'approaches_from_>_275_yards',\n",
       "       'approaches_from_250-275_yards', 'approaches_from_225-250_yards',\n",
       "       'approaches_from_200-225_yards', 'approaches_from_50-75_yards',\n",
       "       'approaches_from_75-100_yards', 'approaches_from_100-125_yards',\n",
       "       'approaches_from_50-125_yards', 'approaches_from_125-150_yards',\n",
       "       'approaches_from_150-175_yards', 'approaches_from_175-200_yards',\n",
       "       'approaches_from_>_200_yards', 'approaches_from_>_275_yards_(rgh)',\n",
       "       'approaches_from_250-275_yards_(rgh)',\n",
       "       'approaches_from_225-250_yards_(rgh)',\n",
       "       'approaches_from_200-225_yards_(rgh)',\n",
       "       'approaches_from_>_100_yards_(rgh)',\n",
       "       'approaches_from_inside_100_yards_(rgh)',\n",
       "       'approaches_from_>_200_yards_(rgh)',\n",
       "       'approaches_from_175-200_yards_(rgh)',\n",
       "       'approaches_from_150-175_yards_(rgh)',\n",
       "       'approaches_from_125-150_yards_(rgh)',\n",
       "       'approaches_from_50-125_yards_(rgh)',\n",
       "       'approaches_from_100-125_yards_(rgh)',\n",
       "       'approaches_from_75-100_yards_(rgh)',\n",
       "       'approaches_from_50-75_yards_(rgh)', 'total_hole_outs',\n",
       "       'longest_hole_outs_(in_yards)', 'sg:_around-the-green',\n",
       "       'sand_save_percentage', 'proximity_to_hole_from_sand', 'scrambling',\n",
       "       'scrambling_from_the_fringe', 'scrambling_from_the_rough',\n",
       "       'scrambling_from_>_30_yards', 'scrambling_from_20-30_yards',\n",
       "       'scrambling_from_10-20_yards', 'scrambling_from_<_10_yards',\n",
       "       'sg:_putting', 'putting_average', 'overall_putting_average',\n",
       "       'one-putt_percentage', '3-putt_avoidance', 'putts_per_round',\n",
       "       'putts_per_round_-_round_1', 'putts_per_round_-_round_2',\n",
       "       'putts_per_round_-_round_3', 'putts_per_round_-_round_4',\n",
       "       'putting_from_3'', 'putting_from_4'', 'putting_from_5'',\n",
       "       'putting_from_6'', 'putting_from_7'', 'putting_from_8'',\n",
       "       'putting_from_9'', 'putting_from_10'', 'putting_from_4-8'',\n",
       "       'putting_-_inside_10'', 'putting_from_-_10-15'',\n",
       "       'putting_from_-_15-20'', 'putting_from_-_20-25'',\n",
       "       'putting_from_-_>_25'', 'longest_putts', 'approach_putt_performance',\n",
       "       'average_distance_of_putts_made',\n",
       "       'birdie_or_better_conversion_percentage', 'player', 'sg:_total'],\n",
       "      dtype='object')"
      ]
     },
     "execution_count": 62,
     "metadata": {},
     "output_type": "execute_result"
    }
   ],
   "source": [
    "df_pga.columns"
   ]
  },
  {
   "cell_type": "code",
   "execution_count": 63,
   "metadata": {},
   "outputs": [
    {
     "data": {
      "text/plain": [
       "date                                         0\n",
       "sg:_tee-to-green                             3\n",
       "sg:_off-the-tee                              0\n",
       "driving_distance                             0\n",
       "driving_distance_-_all_drives                0\n",
       "longest_drives                               2\n",
       "driving_accuracy_percentage                  0\n",
       "distance_from_edge_of_fairway              146\n",
       "left_rough_tendency                          0\n",
       "right_rough_tendency                         0\n",
       "club_head_speed                              0\n",
       "finish                                       0\n",
       "sg:_approach-the-green                       0\n",
       "greens_in_regulation_percentage              0\n",
       "going_for_the_green                         12\n",
       "going_for_the_green_-_hit_green_pct.        18\n",
       "going_for_the_green_-_birdie_or_better      18\n",
       "proximity_to_hole                            0\n",
       "rough_proximity                              2\n",
       "left_rough_proximity                        39\n",
       "right_rough_proximity                       39\n",
       "fairway_proximity                            0\n",
       "approaches_from_>_275_yards               2248\n",
       "approaches_from_250-275_yards             1309\n",
       "approaches_from_225-250_yards              231\n",
       "approaches_from_200-225_yards               15\n",
       "approaches_from_50-75_yards               1557\n",
       "approaches_from_75-100_yards               301\n",
       "approaches_from_100-125_yards               46\n",
       "approaches_from_50-125_yards                 1\n",
       "                                          ... \n",
       "sg:_putting                                  0\n",
       "putting_average                              0\n",
       "overall_putting_average                      0\n",
       "one-putt_percentage                          0\n",
       "3-putt_avoidance                             0\n",
       "putts_per_round                              0\n",
       "putts_per_round_-_round_1                    0\n",
       "putts_per_round_-_round_2                    0\n",
       "putts_per_round_-_round_3                    6\n",
       "putts_per_round_-_round_4                   98\n",
       "putting_from_3'                              0\n",
       "putting_from_4'                              5\n",
       "putting_from_5'                             37\n",
       "putting_from_6'                            102\n",
       "putting_from_7'                            158\n",
       "putting_from_8'                            211\n",
       "putting_from_9'                            256\n",
       "putting_from_10'                           310\n",
       "putting_from_4-8'                            0\n",
       "putting_-_inside_10'                         0\n",
       "putting_from_-_10-15'                        1\n",
       "putting_from_-_15-20'                       12\n",
       "putting_from_-_20-25'                       39\n",
       "putting_from_-_>_25'                         0\n",
       "longest_putts                                2\n",
       "approach_putt_performance                    0\n",
       "average_distance_of_putts_made               0\n",
       "birdie_or_better_conversion_percentage       0\n",
       "player                                       0\n",
       "sg:_total                                    0\n",
       "Length: 90, dtype: int64"
      ]
     },
     "execution_count": 63,
     "metadata": {},
     "output_type": "execute_result"
    }
   ],
   "source": [
    "df_pga.isnull().sum()"
   ]
  },
  {
   "cell_type": "code",
   "execution_count": 64,
   "metadata": {},
   "outputs": [],
   "source": [
    "notnull = []\n",
    "for col in df_pga.columns:\n",
    "    if df_pga[col].isnull().sum() == 0:\n",
    "        notnull.append(col)\n",
    "        \n",
    "null = []\n",
    "for col in df_pga.columns:\n",
    "    if df_pga[col].isnull().sum() > 0:\n",
    "        null.append(col)"
   ]
  },
  {
   "cell_type": "code",
   "execution_count": 66,
   "metadata": {},
   "outputs": [],
   "source": [
    "df_notnull = df_pga[notnull]\n",
    "df_null = df_pga[null]"
   ]
  },
  {
   "cell_type": "code",
   "execution_count": 72,
   "metadata": {},
   "outputs": [
    {
     "name": "stderr",
     "output_type": "stream",
     "text": [
      "/Applications/anaconda3/lib/python3.6/site-packages/ipykernel_launcher.py:1: SettingWithCopyWarning: \n",
      "A value is trying to be set on a copy of a slice from a DataFrame.\n",
      "Try using .loc[row_indexer,col_indexer] = value instead\n",
      "\n",
      "See the caveats in the documentation: http://pandas.pydata.org/pandas-docs/stable/indexing.html#indexing-view-versus-copy\n",
      "  \"\"\"Entry point for launching an IPython kernel.\n",
      "/Applications/anaconda3/lib/python3.6/site-packages/ipykernel_launcher.py:2: SettingWithCopyWarning: \n",
      "A value is trying to be set on a copy of a slice from a DataFrame.\n",
      "Try using .loc[row_indexer,col_indexer] = value instead\n",
      "\n",
      "See the caveats in the documentation: http://pandas.pydata.org/pandas-docs/stable/indexing.html#indexing-view-versus-copy\n",
      "  \n"
     ]
    }
   ],
   "source": [
    "df_notnull['finish'] = df_notnull['finish'].apply(lambda x: x.strip('T'))\n",
    "df_notnull['finish'] = df_notnull['finish'].astype(int)"
   ]
  },
  {
   "cell_type": "code",
   "execution_count": 90,
   "metadata": {},
   "outputs": [
    {
     "data": {
      "text/plain": [
       "Index(['date', 'sg:_off-the-tee', 'driving_distance',\n",
       "       'driving_distance_-_all_drives', 'driving_accuracy_percentage',\n",
       "       'left_rough_tendency', 'right_rough_tendency', 'club_head_speed',\n",
       "       'finish', 'sg:_approach-the-green', 'greens_in_regulation_percentage',\n",
       "       'proximity_to_hole', 'fairway_proximity', 'approaches_from_>_200_yards',\n",
       "       'sg:_around-the-green', 'scrambling', 'sg:_putting', 'putting_average',\n",
       "       'overall_putting_average', 'one-putt_percentage', '3-putt_avoidance',\n",
       "       'putts_per_round', 'putts_per_round_-_round_1',\n",
       "       'putts_per_round_-_round_2', 'putting_from_3'', 'putting_from_4-8'',\n",
       "       'putting_-_inside_10'', 'putting_from_-_>_25'',\n",
       "       'approach_putt_performance', 'average_distance_of_putts_made',\n",
       "       'birdie_or_better_conversion_percentage', 'player', 'sg:_total'],\n",
       "      dtype='object')"
      ]
     },
     "execution_count": 90,
     "metadata": {},
     "output_type": "execute_result"
    }
   ],
   "source": [
    "df_notnull.columns"
   ]
  },
  {
   "cell_type": "code",
   "execution_count": 97,
   "metadata": {},
   "outputs": [
    {
     "ename": "AttributeError",
     "evalue": "'float' object has no attribute 'split'",
     "output_type": "error",
     "traceback": [
      "\u001b[0;31m---------------------------------------------------------------------------\u001b[0m",
      "\u001b[0;31mAttributeError\u001b[0m                            Traceback (most recent call last)",
      "\u001b[0;32m<ipython-input-97-30300cef2c6c>\u001b[0m in \u001b[0;36m<module>\u001b[0;34m\u001b[0m\n\u001b[1;32m      4\u001b[0m \u001b[0;34m\u001b[0m\u001b[0m\n\u001b[1;32m      5\u001b[0m \u001b[0;32mfor\u001b[0m \u001b[0mcol\u001b[0m \u001b[0;32min\u001b[0m \u001b[0mdistance\u001b[0m\u001b[0;34m:\u001b[0m\u001b[0;34m\u001b[0m\u001b[0;34m\u001b[0m\u001b[0m\n\u001b[0;32m----> 6\u001b[0;31m     \u001b[0mdf_notnull\u001b[0m\u001b[0;34m[\u001b[0m\u001b[0mcol\u001b[0m\u001b[0;34m]\u001b[0m \u001b[0;34m=\u001b[0m \u001b[0mdf_notnull\u001b[0m\u001b[0;34m[\u001b[0m\u001b[0mcol\u001b[0m\u001b[0;34m]\u001b[0m\u001b[0;34m.\u001b[0m\u001b[0mapply\u001b[0m\u001b[0;34m(\u001b[0m\u001b[0;32mlambda\u001b[0m \u001b[0mdist\u001b[0m\u001b[0;34m:\u001b[0m \u001b[0mto_inches\u001b[0m\u001b[0;34m(\u001b[0m\u001b[0mdist\u001b[0m\u001b[0;34m)\u001b[0m\u001b[0;34m)\u001b[0m\u001b[0;34m\u001b[0m\u001b[0;34m\u001b[0m\u001b[0m\n\u001b[0m",
      "\u001b[0;32m/Applications/anaconda3/lib/python3.6/site-packages/pandas/core/series.py\u001b[0m in \u001b[0;36mapply\u001b[0;34m(self, func, convert_dtype, args, **kwds)\u001b[0m\n\u001b[1;32m   3192\u001b[0m             \u001b[0;32melse\u001b[0m\u001b[0;34m:\u001b[0m\u001b[0;34m\u001b[0m\u001b[0;34m\u001b[0m\u001b[0m\n\u001b[1;32m   3193\u001b[0m                 \u001b[0mvalues\u001b[0m \u001b[0;34m=\u001b[0m \u001b[0mself\u001b[0m\u001b[0;34m.\u001b[0m\u001b[0mastype\u001b[0m\u001b[0;34m(\u001b[0m\u001b[0mobject\u001b[0m\u001b[0;34m)\u001b[0m\u001b[0;34m.\u001b[0m\u001b[0mvalues\u001b[0m\u001b[0;34m\u001b[0m\u001b[0;34m\u001b[0m\u001b[0m\n\u001b[0;32m-> 3194\u001b[0;31m                 \u001b[0mmapped\u001b[0m \u001b[0;34m=\u001b[0m \u001b[0mlib\u001b[0m\u001b[0;34m.\u001b[0m\u001b[0mmap_infer\u001b[0m\u001b[0;34m(\u001b[0m\u001b[0mvalues\u001b[0m\u001b[0;34m,\u001b[0m \u001b[0mf\u001b[0m\u001b[0;34m,\u001b[0m \u001b[0mconvert\u001b[0m\u001b[0;34m=\u001b[0m\u001b[0mconvert_dtype\u001b[0m\u001b[0;34m)\u001b[0m\u001b[0;34m\u001b[0m\u001b[0;34m\u001b[0m\u001b[0m\n\u001b[0m\u001b[1;32m   3195\u001b[0m \u001b[0;34m\u001b[0m\u001b[0m\n\u001b[1;32m   3196\u001b[0m         \u001b[0;32mif\u001b[0m \u001b[0mlen\u001b[0m\u001b[0;34m(\u001b[0m\u001b[0mmapped\u001b[0m\u001b[0;34m)\u001b[0m \u001b[0;32mand\u001b[0m \u001b[0misinstance\u001b[0m\u001b[0;34m(\u001b[0m\u001b[0mmapped\u001b[0m\u001b[0;34m[\u001b[0m\u001b[0;36m0\u001b[0m\u001b[0;34m]\u001b[0m\u001b[0;34m,\u001b[0m \u001b[0mSeries\u001b[0m\u001b[0;34m)\u001b[0m\u001b[0;34m:\u001b[0m\u001b[0;34m\u001b[0m\u001b[0;34m\u001b[0m\u001b[0m\n",
      "\u001b[0;32mpandas/_libs/src/inference.pyx\u001b[0m in \u001b[0;36mpandas._libs.lib.map_infer\u001b[0;34m()\u001b[0m\n",
      "\u001b[0;32m<ipython-input-97-30300cef2c6c>\u001b[0m in \u001b[0;36m<lambda>\u001b[0;34m(dist)\u001b[0m\n\u001b[1;32m      4\u001b[0m \u001b[0;34m\u001b[0m\u001b[0m\n\u001b[1;32m      5\u001b[0m \u001b[0;32mfor\u001b[0m \u001b[0mcol\u001b[0m \u001b[0;32min\u001b[0m \u001b[0mdistance\u001b[0m\u001b[0;34m:\u001b[0m\u001b[0;34m\u001b[0m\u001b[0;34m\u001b[0m\u001b[0m\n\u001b[0;32m----> 6\u001b[0;31m     \u001b[0mdf_notnull\u001b[0m\u001b[0;34m[\u001b[0m\u001b[0mcol\u001b[0m\u001b[0;34m]\u001b[0m \u001b[0;34m=\u001b[0m \u001b[0mdf_notnull\u001b[0m\u001b[0;34m[\u001b[0m\u001b[0mcol\u001b[0m\u001b[0;34m]\u001b[0m\u001b[0;34m.\u001b[0m\u001b[0mapply\u001b[0m\u001b[0;34m(\u001b[0m\u001b[0;32mlambda\u001b[0m \u001b[0mdist\u001b[0m\u001b[0;34m:\u001b[0m \u001b[0mto_inches\u001b[0m\u001b[0;34m(\u001b[0m\u001b[0mdist\u001b[0m\u001b[0;34m)\u001b[0m\u001b[0;34m)\u001b[0m\u001b[0;34m\u001b[0m\u001b[0;34m\u001b[0m\u001b[0m\n\u001b[0m",
      "\u001b[0;32m~/Documents/general_assembly/Capstone/functions.py\u001b[0m in \u001b[0;36mto_inches\u001b[0;34m(distance)\u001b[0m\n\u001b[1;32m     39\u001b[0m \u001b[0;32mdef\u001b[0m \u001b[0mto_inches\u001b[0m\u001b[0;34m(\u001b[0m\u001b[0mdistance\u001b[0m\u001b[0;34m)\u001b[0m\u001b[0;34m:\u001b[0m\u001b[0;34m\u001b[0m\u001b[0;34m\u001b[0m\u001b[0m\n\u001b[1;32m     40\u001b[0m \u001b[0;34m\u001b[0m\u001b[0m\n\u001b[0;32m---> 41\u001b[0;31m     \u001b[0mdist_\u001b[0m \u001b[0;34m=\u001b[0m \u001b[0mdistance\u001b[0m\u001b[0;34m.\u001b[0m\u001b[0msplit\u001b[0m\u001b[0;34m(\u001b[0m\u001b[0;34m\"\\' \"\u001b[0m\u001b[0;34m)\u001b[0m\u001b[0;34m\u001b[0m\u001b[0;34m\u001b[0m\u001b[0m\n\u001b[0m\u001b[1;32m     42\u001b[0m     \u001b[0;32mif\u001b[0m \u001b[0mlen\u001b[0m\u001b[0;34m(\u001b[0m\u001b[0mdist_\u001b[0m\u001b[0;34m)\u001b[0m \u001b[0;34m==\u001b[0m \u001b[0;36m1\u001b[0m\u001b[0;34m:\u001b[0m\u001b[0;34m\u001b[0m\u001b[0;34m\u001b[0m\u001b[0m\n\u001b[1;32m     43\u001b[0m         \u001b[0mdist_\u001b[0m \u001b[0;34m=\u001b[0m \u001b[0mdist_\u001b[0m\u001b[0;34m[\u001b[0m\u001b[0;36m0\u001b[0m\u001b[0;34m]\u001b[0m\u001b[0;34m.\u001b[0m\u001b[0mstrip\u001b[0m\u001b[0;34m(\u001b[0m\u001b[0;34m'\"'\u001b[0m\u001b[0;34m)\u001b[0m\u001b[0;34m\u001b[0m\u001b[0;34m\u001b[0m\u001b[0m\n",
      "\u001b[0;31mAttributeError\u001b[0m: 'float' object has no attribute 'split'"
     ]
    }
   ],
   "source": [
    "distance = ['proximity_to_hole', 'fairway_proximity', \n",
    "            'approaches_from_>_200_yards', 'approach_putt_performance', \n",
    "            'average_distance_of_putts_made']\n",
    "\n",
    "for col in distance:\n",
    "    df_notnull[col] = df_notnull[col].apply(lambda dist: to_inches(dist))"
   ]
  },
  {
   "cell_type": "code",
   "execution_count": 96,
   "metadata": {},
   "outputs": [
    {
     "data": {
      "text/plain": [
       "574.0"
      ]
     },
     "execution_count": 96,
     "metadata": {},
     "output_type": "execute_result"
    }
   ],
   "source": [
    "to_inches('47\\' 10\"')"
   ]
  },
  {
   "cell_type": "code",
   "execution_count": null,
   "metadata": {},
   "outputs": [],
   "source": [
    "df_pga['total_hole_outs'].fillna(0, inplace=True)"
   ]
  },
  {
   "cell_type": "code",
   "execution_count": null,
   "metadata": {},
   "outputs": [],
   "source": [
    "df_pga.iloc[:, 50:90].isnull().sum()"
   ]
  },
  {
   "cell_type": "code",
   "execution_count": null,
   "metadata": {},
   "outputs": [],
   "source": [
    "for col in df_pga.columns:\n",
    "    if 'approaches' in col:\n",
    "        df_pga[col].fillna('0\\' 0\"', inplace = True)\n",
    "        df_pga[col] = df_pga[col].apply(lambda dist: to_inches(dist))\n",
    "        df_pga[f'encoded_{col}'] = df_pga[col].map(lambda x: 1 if x == 0.0 else 0)"
   ]
  },
  {
   "cell_type": "code",
   "execution_count": null,
   "metadata": {},
   "outputs": [],
   "source": []
  },
  {
   "cell_type": "code",
   "execution_count": null,
   "metadata": {},
   "outputs": [],
   "source": []
  },
  {
   "cell_type": "code",
   "execution_count": null,
   "metadata": {},
   "outputs": [],
   "source": []
  },
  {
   "cell_type": "code",
   "execution_count": null,
   "metadata": {},
   "outputs": [],
   "source": []
  },
  {
   "cell_type": "code",
   "execution_count": null,
   "metadata": {},
   "outputs": [],
   "source": [
    "dustin_df['proximity_to_hole'].str.extractall(r'(?P<feet>\\d+)\\' +(?P<inches>\\d+)\\\"')"
   ]
  },
  {
   "cell_type": "code",
   "execution_count": null,
   "metadata": {},
   "outputs": [],
   "source": [
    "df[df['A'].str.contains(\"hello\")]"
   ]
  },
  {
   "cell_type": "code",
   "execution_count": null,
   "metadata": {},
   "outputs": [],
   "source": [
    "dustin_df.columns"
   ]
  },
  {
   "cell_type": "code",
   "execution_count": null,
   "metadata": {},
   "outputs": [],
   "source": [
    "prox = dustin_df.filter(like = 'proximity')\n",
    "approaches = dustin_df.filter(like = 'approaches')\n",
    "distance = prox.join(approaches)\n",
    "\n",
    "distance['distance_from_edge_of_fairway'] = dustin_df['distance_from_edge_of_fairway']\n",
    "distance.isnull().sum()"
   ]
  },
  {
   "cell_type": "code",
   "execution_count": null,
   "metadata": {},
   "outputs": [],
   "source": [
    "dustin_df[\"proximity_to_hole\"].apply(lambda x:parse_ht(x))"
   ]
  },
  {
   "cell_type": "code",
   "execution_count": null,
   "metadata": {},
   "outputs": [],
   "source": [
    "dustin_df.shape"
   ]
  },
  {
   "cell_type": "code",
   "execution_count": null,
   "metadata": {},
   "outputs": [],
   "source": [
    "for col, val in enumerate(dustin_df.isnull().sum()):\n",
    "    if val > 0:\n",
    "        print(col , val)"
   ]
  },
  {
   "cell_type": "code",
   "execution_count": null,
   "metadata": {},
   "outputs": [],
   "source": [
    "dustin_df.iloc[:, 22]"
   ]
  },
  {
   "cell_type": "code",
   "execution_count": null,
   "metadata": {},
   "outputs": [],
   "source": [
    "dustin_df.iloc[123,:].isnull().sum()"
   ]
  },
  {
   "cell_type": "code",
   "execution_count": null,
   "metadata": {},
   "outputs": [],
   "source": []
  },
  {
   "cell_type": "code",
   "execution_count": null,
   "metadata": {},
   "outputs": [],
   "source": [
    "df_pga['sg:_off-the-tee']"
   ]
  },
  {
   "cell_type": "code",
   "execution_count": null,
   "metadata": {},
   "outputs": [],
   "source": [
    "df_pga['sg:_total'].sort_values(ascending=False)"
   ]
  }
 ],
 "metadata": {
  "kernelspec": {
   "display_name": "Python 3",
   "language": "python",
   "name": "python3"
  },
  "language_info": {
   "codemirror_mode": {
    "name": "ipython",
    "version": 3
   },
   "file_extension": ".py",
   "mimetype": "text/x-python",
   "name": "python",
   "nbconvert_exporter": "python",
   "pygments_lexer": "ipython3",
   "version": "3.6.8"
  }
 },
 "nbformat": 4,
 "nbformat_minor": 2
}
